{
 "cells": [
  {
   "cell_type": "markdown",
   "metadata": {},
   "source": [
    "# Python fonctions"
   ]
  },
  {
   "cell_type": "code",
   "execution_count": 1,
   "metadata": {},
   "outputs": [],
   "source": [
    "%matplotlib qt\n",
    "import matplotlib.pyplot as plt\n",
    "import numpy as np\n",
    "import hyperspy.api as hs\n",
    "import sympy as sp\n",
    "from sympy import init_printing\n",
    "init_printing(use_latex='mathjax')"
   ]
  },
  {
   "cell_type": "markdown",
   "metadata": {},
   "source": [
    "# Mineral Database"
   ]
  },
  {
   "cell_type": "code",
   "execution_count": 2,
   "metadata": {},
   "outputs": [],
   "source": [
    "from Letis import Carac_Mineral as CM"
   ]
  },
  {
   "cell_type": "markdown",
   "metadata": {},
   "source": [
    "## Alumine"
   ]
  },
  {
   "cell_type": "code",
   "execution_count": 67,
   "metadata": {},
   "outputs": [
    {
     "name": "stderr",
     "output_type": "stream",
     "text": [
      "C:\\Users\\NEJI-MEJ\\HyperSpy Bundle\\python-3.7.4.amd64\\lib\\site-packages\\ipykernel_launcher.py:39: RuntimeWarning: invalid value encountered in true_divide\n"
     ]
    },
    {
     "name": "stdout",
     "output_type": "stream",
     "text": [
      "Intensity: [0.         0.67232312 0.32767688]\n",
      "Mass: [0.0, 52.9250698715257, 47.07493012847431]\n",
      "Kratio: [       nan 0.78719693 1.43662655]\n"
     ]
    }
   ],
   "source": [
    "#Al2O3\n",
    "\n",
    "#\n",
    "Nom_Al2O3 = 'Alumine'\n",
    "Elt_Al2O3 = ['H','Al', 'O']\n",
    "Xray_Al2O3= ['H_Ka','Al_Ka', 'O_Ka']\n",
    "Mol_Al2O3= [0, 2,3]\n",
    "rho_Al2O3= 3.97\n",
    "E0= 15\n",
    "Out_Al2O3 = 'Tot'\n",
    "Gr_Al2O3 = 'N'\n",
    "Prop_Al2O3 = CM.Carac_Mineral(Nom_Al2O3, Elt_Al2O3, Mol_Al2O3, rho_Al2O3, E0, Out_Al2O3, Gr_Al2O3)\n",
    "\n",
    "#Spectra\n",
    "SP_Al2O3 = hs.load('SPX/Al2O3.spx')\n",
    "#SP_Al2O3.plot()\n",
    "SP_Al2O3.set_elements(Elt_Al2O3)\n",
    "#Xray_lines\n",
    "SP_Al2O3.set_lines(Xray_Al2O3)\n",
    "#I_Al2O3 = SP_Al2O3.get_lines_intensity(plot_result=True)\n",
    "#\n",
    "#Model_\n",
    "mSP_Al2O3  = SP_Al2O3.create_model()\n",
    "mSP_Al2O3.fit()\n",
    "mSP_Al2O3.fit_background()\n",
    "I_mAl2O3 = mSP_Al2O3.get_lines_intensity()\n",
    "#Intensity\n",
    "I_Al2O3 = list(range(len(Elt_Al2O3)))\n",
    "I_Al2O3[0] = 0\n",
    "I_Al2O3[1] = np.max(I_mAl2O3[1].data)\n",
    "I_Al2O3[2] = np.max(I_mAl2O3[2].data)\n",
    "I_Al2O3_tot = sum(I_Al2O3)\n",
    "#percent\n",
    "I_Al2O3 = I_Al2O3 / I_Al2O3_tot\n",
    "\n",
    "\n",
    "C_Al2O3 = Prop_Al2O3[4]\n",
    "\n",
    "k_Al2O3 = (C_Al2O3) / I_Al2O3\n",
    "print('Intensity:', I_Al2O3)\n",
    "print('Mass:', C_Al2O3)\n",
    "print('Kratio:', k_Al2O3/100)\n",
    "\n",
    "faire une dictionnaire avec dedans IAL CAL kAl"
   ]
  },
  {
   "cell_type": "code",
   "execution_count": 31,
   "metadata": {},
   "outputs": [
    {
     "data": {
      "text/plain": [
       "array([148458.])"
      ]
     },
     "execution_count": 31,
     "metadata": {},
     "output_type": "execute_result"
    }
   ],
   "source": []
  },
  {
   "cell_type": "code",
   "execution_count": 32,
   "metadata": {},
   "outputs": [],
   "source": [
    "A22 = np.max(I_Al2O3[1].data)"
   ]
  },
  {
   "cell_type": "code",
   "execution_count": 33,
   "metadata": {},
   "outputs": [
    {
     "data": {
      "text/latex": [
       "$\\displaystyle 148458.0$"
      ],
      "text/plain": [
       "148458.0"
      ]
     },
     "execution_count": 33,
     "metadata": {},
     "output_type": "execute_result"
    }
   ],
   "source": [
    "A22"
   ]
  },
  {
   "cell_type": "code",
   "execution_count": 4,
   "metadata": {},
   "outputs": [
    {
     "ename": "AttributeError",
     "evalue": "It is not possible to decompose a dataset with navigation_size < 2",
     "output_type": "error",
     "traceback": [
      "\u001b[1;31m---------------------------------------------------------------------------\u001b[0m",
      "\u001b[1;31mAttributeError\u001b[0m                            Traceback (most recent call last)",
      "\u001b[1;32m<ipython-input-4-09e20c3c94f7>\u001b[0m in \u001b[0;36m<module>\u001b[1;34m\u001b[0m\n\u001b[0;32m      1\u001b[0m \u001b[0mSP_Al2O3\u001b[0m\u001b[1;33m.\u001b[0m\u001b[0mchange_dtype\u001b[0m\u001b[1;33m(\u001b[0m\u001b[1;34m'float64'\u001b[0m\u001b[1;33m)\u001b[0m\u001b[1;33m\u001b[0m\u001b[1;33m\u001b[0m\u001b[0m\n\u001b[1;32m----> 2\u001b[1;33m \u001b[0mSP_Al2O3\u001b[0m\u001b[1;33m.\u001b[0m\u001b[0mdecomposition\u001b[0m\u001b[1;33m(\u001b[0m\u001b[1;33m)\u001b[0m\u001b[1;33m\u001b[0m\u001b[1;33m\u001b[0m\u001b[0m\n\u001b[0m\u001b[0;32m      3\u001b[0m \u001b[1;31m#ROI2.plot_explained_variance_ratio()\u001b[0m\u001b[1;33m\u001b[0m\u001b[1;33m\u001b[0m\u001b[1;33m\u001b[0m\u001b[0m\n\u001b[0;32m      4\u001b[0m \u001b[0mD_SP_Al2O3\u001b[0m \u001b[1;33m=\u001b[0m \u001b[0mSP_Al2O3\u001b[0m\u001b[1;33m.\u001b[0m\u001b[0mget_decomposition_model\u001b[0m\u001b[1;33m(\u001b[0m\u001b[1;36m2\u001b[0m\u001b[1;33m)\u001b[0m\u001b[1;33m\u001b[0m\u001b[1;33m\u001b[0m\u001b[0m\n\u001b[0;32m      5\u001b[0m \u001b[0mD_SP_Al2O3\u001b[0m\u001b[1;33m.\u001b[0m\u001b[0mplot\u001b[0m\u001b[1;33m(\u001b[0m\u001b[0mxray_lines\u001b[0m\u001b[1;33m=\u001b[0m\u001b[1;32mTrue\u001b[0m\u001b[1;33m)\u001b[0m\u001b[1;33m\u001b[0m\u001b[1;33m\u001b[0m\u001b[0m\n",
      "\u001b[1;32m~\\HyperSpy Bundle\\python-3.7.4.amd64\\lib\\site-packages\\hyperspy\\learn\\mva.py\u001b[0m in \u001b[0;36mdecomposition\u001b[1;34m(self, normalize_poissonian_noise, algorithm, output_dimension, centre, auto_transpose, navigation_mask, signal_mask, var_array, var_func, polyfit, reproject, return_info, **kwargs)\u001b[0m\n\u001b[0;32m    175\u001b[0m \u001b[1;33m\u001b[0m\u001b[0m\n\u001b[0;32m    176\u001b[0m         \u001b[1;32mif\u001b[0m \u001b[0mself\u001b[0m\u001b[1;33m.\u001b[0m\u001b[0maxes_manager\u001b[0m\u001b[1;33m.\u001b[0m\u001b[0mnavigation_size\u001b[0m \u001b[1;33m<\u001b[0m \u001b[1;36m2\u001b[0m\u001b[1;33m:\u001b[0m\u001b[1;33m\u001b[0m\u001b[1;33m\u001b[0m\u001b[0m\n\u001b[1;32m--> 177\u001b[1;33m             raise AttributeError(\"It is not possible to decompose a dataset \"\n\u001b[0m\u001b[0;32m    178\u001b[0m                                  \"with navigation_size < 2\")\n\u001b[0;32m    179\u001b[0m         \u001b[1;31m# backup the original data\u001b[0m\u001b[1;33m\u001b[0m\u001b[1;33m\u001b[0m\u001b[1;33m\u001b[0m\u001b[0m\n",
      "\u001b[1;31mAttributeError\u001b[0m: It is not possible to decompose a dataset with navigation_size < 2"
     ]
    }
   ],
   "source": [
    "SP_Al2O3.change_dtype('float64')\n",
    "SP_Al2O3.decomposition()\n",
    "#ROI2.plot_explained_variance_ratio()\n",
    "D_SP_Al2O3 = SP_Al2O3.get_decomposition_model(2)\n",
    "D_SP_Al2O3.plot(xray_lines=True)"
   ]
  },
  {
   "cell_type": "code",
   "execution_count": 35,
   "metadata": {},
   "outputs": [
    {
     "name": "stdout",
     "output_type": "stream",
     "text": [
      "Al_Ka at 1.4865 keV : Intensity = 268743.04\n",
      "H_Ka at 0.0013598 keV : Intensity = 124673.30\n",
      "O_Ka at 0.5249 keV : Intensity = 60763.28\n"
     ]
    }
   ],
   "source": [
    "mSP_Al2O3  = SP_Al2O3.create_model()\n",
    "mSP_Al2O3.fit()\n",
    "mSP_Al2O3.fit_background()\n",
    "#mSP_Al2O3.plot(plot_components=True, xray_lines=True)\n",
    "A23 = mSP_Al2O3.get_lines_intensity(plot_result=True)"
   ]
  },
  {
   "cell_type": "code",
   "execution_count": 37,
   "metadata": {},
   "outputs": [
    {
     "name": "stdout",
     "output_type": "stream",
     "text": [
      "124673.29903469361\n"
     ]
    }
   ],
   "source": [
    "A24 = np.max(A23[1].data)\n",
    "print(A24)"
   ]
  },
  {
   "cell_type": "markdown",
   "metadata": {},
   "source": [
    "## Portlandite"
   ]
  },
  {
   "cell_type": "code",
   "execution_count": 5,
   "metadata": {},
   "outputs": [
    {
     "name": "stdout",
     "output_type": "stream",
     "text": [
      "Name of Mineral..................... Portlandite\n",
      "Name of Elt......................... ['hydrogen', 'calcium', 'oxygen']\n",
      "Atomic number....................... [1, 20, 8]\n",
      "Atomic ratio in the mineral......... [40.0, 20.0, 40.0] %\n",
      "Massic ratio in the mineral......... [ 2.721 54.092 43.188] %\n",
      "Energy of Xray line Ka.............. [1.000e-03 3.692e+00 5.250e-01] KeV\n",
      "Mass absorption coefficient µ/rho... [    0.      126.416 12654.623]  cm^2/g\n",
      "Disturbance peer.................... 2.91 µm\n"
     ]
    }
   ],
   "source": [
    "#Ca(OH)2\n",
    "\n",
    "Nom_CH = 'Portlandite'\n",
    "Elt_CH= ['H', 'Ca', 'O']\n",
    "Mol_CH= [2,1,2]\n",
    "rho_CH= 2.24\n",
    "E0= 15\n",
    "Out_CH = 'Tot'\n",
    "Gr_CH= 'Y'\n",
    "\n",
    "Prop_CH = CM.Carac_Mineral(Nom_CH, Elt_CH, Mol_CH, rho_CH, E0, Out_CH, Gr_CH)"
   ]
  },
  {
   "cell_type": "markdown",
   "metadata": {
    "slideshow": {
     "slide_type": "subslide"
    }
   },
   "source": [
    "# Brucite"
   ]
  },
  {
   "cell_type": "code",
   "execution_count": 8,
   "metadata": {},
   "outputs": [
    {
     "name": "stdout",
     "output_type": "stream",
     "text": [
      "Name of Mineral..................... Brucite\n",
      "Name of Elt......................... magnesium\n",
      "Atomic number....................... 12\n",
      "Atomic ratio in the mineral......... 20.0 %\n",
      "Massic ratio in the mineral......... 41.675 %\n",
      "Energy of Xray line Ka.............. 1.254 KeV\n",
      "Mass absorption coefficient µ/rho... 1548.884  cm^2/g\n",
      "Disturbance peer.................... 2.72 µm\n"
     ]
    }
   ],
   "source": [
    "#Mg(OH)2\n",
    "\n",
    "Nom_Bru = 'Brucite'\n",
    "Elt_Bru= ['H', 'Mg', 'O']\n",
    "Mol_Bru= [2,1,2]\n",
    "rho_Bru= 2.39\n",
    "E0= 15\n",
    "Out_Bru = 'Mg'\n",
    "Gr_Bru= 'Y'\n",
    "\n",
    "Prop_Bru = CM.Carac_Mineral(Nom_Bru, Elt_Bru, Mol_Bru, rho_Bru, E0, Out_Bru, Gr_Bru)"
   ]
  },
  {
   "cell_type": "markdown",
   "metadata": {},
   "source": [
    "# Ettringite"
   ]
  },
  {
   "cell_type": "code",
   "execution_count": 6,
   "metadata": {},
   "outputs": [
    {
     "name": "stdout",
     "output_type": "stream",
     "text": [
      "Name of Mineral..................... Ettringite\n",
      "Name of Elt......................... ['hydrogen', 'oxygen', 'calcium', 'sulfur', 'aluminum']\n",
      "Atomic number....................... [1, 8, 20, 16, 13]\n",
      "Atomic ratio in the mineral......... [51.2 40.   4.8  2.4  1.6] %\n",
      "Massic ratio in the mineral......... [ 5.14  63.737 19.159  7.664  4.299] %\n",
      "Energy of Xray line Ka.............. [1.000e-03 5.250e-01 3.692e+00 2.307e+00 1.486e+00] KeV\n",
      "Mass absorption coefficient µ/rho... [   0.    6365.103  184.496  487.541 1417.507]  cm^2/g\n",
      "Disturbance peer.................... 3.79 µm\n"
     ]
    }
   ],
   "source": [
    "#Ca6Al2(SO4)3(OH)12.26H2O.\n",
    "\n",
    "Nom_Ett = 'Ettringite'\n",
    "Elt_Ett = ['H', 'O', 'Ca', 'S', 'Al']\n",
    "Mol_Ett = [64, 50, 6, 3, 2]\n",
    "rho_Ett = 1.7\n",
    "E0 = 15\n",
    "Out_Ett = 'Tot'\n",
    "Gr_Ett = 'Y'\n",
    "\n",
    "Prop_Ett = CM.Carac_Mineral(Nom_Ett, Elt_Ett, Mol_Ett, rho_Ett, E0, Out_Ett, Gr_Ett)"
   ]
  },
  {
   "cell_type": "markdown",
   "metadata": {},
   "source": [
    "# CSH"
   ]
  },
  {
   "cell_type": "code",
   "execution_count": 8,
   "metadata": {},
   "outputs": [
    {
     "name": "stdout",
     "output_type": "stream",
     "text": [
      "Name of Mineral..................... C-S-H(C/S: 1.6)\n",
      "Name of Elt......................... ['hydrogen', 'oxygen', 'calcium', 'silicon']\n",
      "Atomic number....................... [1, 8, 20, 14]\n",
      "Atomic ratio in the mineral......... [25.34  52.551 13.605  8.503] %\n",
      "Massic ratio in the mineral......... [ 1.548 50.943 33.039 14.47 ] %\n",
      "Energy of Xray line Ka.............. [1.000e-03 5.250e-01 3.692e+00 1.740e+00] KeV\n",
      "Mass absorption coefficient µ/rho... [   0.    9025.582  185.155  913.113]  cm^2/g\n",
      "Disturbance peer.................... 2.76 µm\n"
     ]
    }
   ],
   "source": [
    "#C-S-H (C/S = 1,6)\n",
    "\n",
    "Nom_CSH16 = 'C-S-H(C/S: 1.6)'\n",
    "Elt_CSH16 = ['H', 'O', 'Ca', 'Si']\n",
    "Mol_CSH16 = [2.98, 6.18, 1.6, 1]\n",
    "rho_CSH16 = 2.37\n",
    "E0 = 15\n",
    "Out_CSH16 = 'Tot'\n",
    "Gr_CSH16 = 'Y'\n",
    "\n",
    "Prop_CSH16 = CM.Carac_Mineral(Nom_CSH16, Elt_CSH16, Mol_CSH16, rho_CSH16, E0, Out_CSH16, Gr_CSH16)"
   ]
  },
  {
   "cell_type": "markdown",
   "metadata": {},
   "source": [
    "# MSH"
   ]
  },
  {
   "cell_type": "code",
   "execution_count": 16,
   "metadata": {},
   "outputs": [
    {
     "name": "stdout",
     "output_type": "stream",
     "text": [
      "Name of Mineral..................... M-S-H(M/S: 1)\n",
      "Name of Elt......................... ['hydrogen', 'oxygen', 'magnesium', 'silicon']\n",
      "Atomic number....................... [1, 8, 12, 14]\n",
      "Atomic ratio in the mineral......... [51.685 37.079  5.618  5.618] %\n",
      "Massic ratio in the mineral......... [ 5.544 63.133 14.531 16.792] %\n",
      "Energy of Xray line Ka.............. [1.000e-03 5.250e-01 1.254e+00 1.740e+00] KeV\n",
      "Mass absorption coefficient µ/rho... [   0.    2764.62  1803.552 1126.488]  cm^2/g\n",
      "Disturbance peer.................... 1.84 µm\n"
     ]
    }
   ],
   "source": [
    "#M-S-H (M/S = 1)\n",
    "\n",
    "\n",
    "Nom_MSH1 = 'M-S-H(M/S: 1)'\n",
    "Elt_MSH1 = ['H', 'O', 'Mg', 'Si']\n",
    "Mol_MSH1 = [9.2, 6.6, 1, 1]\n",
    "rho_MSH1 = 3.5\n",
    "E0 = 15\n",
    "Out_MSH1 = 'Tot'\n",
    "Gr_MSH1 = 'Y'\n",
    "\n",
    "Prop_MSH1 = CM.Carac_Mineral(Nom_MSH1, Elt_MSH1, Mol_MSH1, rho_MSH1, E0, Out_MSH1, Gr_MSH1)"
   ]
  },
  {
   "cell_type": "code",
   "execution_count": null,
   "metadata": {},
   "outputs": [],
   "source": []
  }
 ],
 "metadata": {
  "kernelspec": {
   "display_name": "Python 3",
   "language": "python",
   "name": "python3"
  },
  "language_info": {
   "codemirror_mode": {
    "name": "ipython",
    "version": 3
   },
   "file_extension": ".py",
   "mimetype": "text/x-python",
   "name": "python",
   "nbconvert_exporter": "python",
   "pygments_lexer": "ipython3",
   "version": "3.7.4"
  }
 },
 "nbformat": 4,
 "nbformat_minor": 2
}
