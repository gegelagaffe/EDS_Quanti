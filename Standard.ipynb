{
 "cells": [
  {
   "cell_type": "markdown",
   "metadata": {},
   "source": [
    "# Python fonctions"
   ]
  },
  {
   "cell_type": "code",
   "execution_count": 2,
   "metadata": {},
   "outputs": [],
   "source": [
    "%matplotlib qt\n",
    "import matplotlib.pyplot as plt\n",
    "import numpy as np\n",
    "import hyperspy.api as hs\n",
    "import sympy as sp\n",
    "from sympy import init_printing\n",
    "init_printing(use_latex='mathjax')"
   ]
  },
  {
   "cell_type": "markdown",
   "metadata": {},
   "source": [
    "# Database of mineral species"
   ]
  },
  {
   "cell_type": "code",
   "execution_count": 38,
   "metadata": {},
   "outputs": [],
   "source": [
    "from sympy import *\n",
    "#nombre despèce\n",
    "\n",
    "Elt_CH = ['H', 'Ca', 'O']\n",
    "Mol_CH = [2,1,1]\n",
    "rho_CH2 = 2.24\n",
    "\n",
    "def Depth(Elt, Mol, rho):\n",
    "\n",
    "   #Number of ionic species\n",
    "    dim_IS = len(Elt)\n",
    "    #Name of ionic species\n",
    "    Name_IS = list(range(dim_IS))\n",
    "    #massic ratio\n",
    "    C_IS = list(range(dim_IS))\n",
    "    #Atomic ratio\n",
    "    NP_IS = list(range(dim_IS))\n",
    "    #atomic weight\n",
    "    A_IS = list(range(dim_IS))\n",
    "    #Atomic number\n",
    "    Z_IS = list(range(dim_IS))\n",
    "    #Properties ionic species\n",
    "    PropIS = list(range(dim_IS))\n",
    "    #General properties of the mineral\n",
    "    #density (g/cm3)\n",
    "    rho_IS = rho\n",
    "    Elt_IS = Elt\n",
    "    \n",
    "    for i in range(dim_IS):\n",
    "        PropIS[i] = hs.material.elements.Elt[i].General_properties \n",
    "        Name_IS[i] = PropIS[i].name\n",
    "        Z_IS[i] = PropIS[i].Z\n",
    "        A_IS[i] = PropIS[i].atomic_weight\n",
    "        NP_IS[i] = Mol[i]\n",
    "        C_IS[i] = (NP_IS[i])*A_IS[i]\n",
    "\n",
    "    #\n",
    "    #total number of g of ionic species in the molecule for 1 mol of CH\n",
    "    Ct_IS = sum(C_IS)\n",
    "    #total number of mol of ionic species in the molecule for 1 mol of CH\n",
    "    Nt_IS = sum(NP_IS)\n",
    "    #converting massic to massic ratio\n",
    "    C_IS = [i/Ct_IS for i in C_IS]\n",
    "    NP_IS = [i/Nt_IS for i in NP_IS]\n",
    "    #matrix creation\n",
    "    Carac_0 = ['Name'] + Name_IS\n",
    "    Carac_1 = ['Z'] + Z_IS\n",
    "    Carac_2 = ['Atm_ratio'] + NP_IS\n",
    "    Carac_3 = ['Mass_ratio'] + C_IS\n",
    "    Carac_IS = Matrix([Carac_0, Carac_1, Carac_2, Carac_3])\n",
    "    #output\n",
    "    Carac_IS \n",
    "    \n",
    "    \n",
    "    return Carac_IS"
   ]
  },
  {
   "cell_type": "code",
   "execution_count": 11,
   "metadata": {},
   "outputs": [
    {
     "name": "stdout",
     "output_type": "stream",
     "text": [
      "H\n"
     ]
    },
    {
     "ename": "AttributeError",
     "evalue": "'DictionaryTreeBrowser' object has no attribute 'Elt2'",
     "output_type": "error",
     "traceback": [
      "\u001b[1;31m---------------------------------------------------------------------------\u001b[0m",
      "\u001b[1;31mAttributeError\u001b[0m                            Traceback (most recent call last)",
      "\u001b[1;32m<ipython-input-11-8497f6dbf9b3>\u001b[0m in \u001b[0;36m<module>\u001b[1;34m\u001b[0m\n\u001b[0;32m      2\u001b[0m \u001b[0mElt3\u001b[0m \u001b[1;33m=\u001b[0m \u001b[1;34m'H'\u001b[0m\u001b[1;33m\u001b[0m\u001b[1;33m\u001b[0m\u001b[0m\n\u001b[0;32m      3\u001b[0m \u001b[0mElt4\u001b[0m \u001b[1;33m=\u001b[0m \u001b[0mprint\u001b[0m\u001b[1;33m(\u001b[0m\u001b[0mElt3\u001b[0m\u001b[1;33m)\u001b[0m\u001b[1;33m\u001b[0m\u001b[1;33m\u001b[0m\u001b[0m\n\u001b[1;32m----> 4\u001b[1;33m \u001b[0mPropIS\u001b[0m \u001b[1;33m=\u001b[0m \u001b[0mhs\u001b[0m\u001b[1;33m.\u001b[0m\u001b[0mmaterial\u001b[0m\u001b[1;33m.\u001b[0m\u001b[0melements\u001b[0m\u001b[1;33m.\u001b[0m\u001b[0mElt2\u001b[0m\u001b[1;33m.\u001b[0m\u001b[0mGeneral_properties\u001b[0m\u001b[1;33m\u001b[0m\u001b[1;33m\u001b[0m\u001b[0m\n\u001b[0m",
      "\u001b[1;32m~\\HyperSpy Bundle\\python-3.7.4.amd64\\lib\\site-packages\\hyperspy\\misc\\utils.py\u001b[0m in \u001b[0;36m__getattribute__\u001b[1;34m(self, name)\u001b[0m\n\u001b[0;32m    340\u001b[0m             \u001b[0mname\u001b[0m \u001b[1;33m=\u001b[0m \u001b[0mname\u001b[0m\u001b[1;33m.\u001b[0m\u001b[0mdecode\u001b[0m\u001b[1;33m(\u001b[0m\u001b[1;33m)\u001b[0m\u001b[1;33m\u001b[0m\u001b[1;33m\u001b[0m\u001b[0m\n\u001b[0;32m    341\u001b[0m         \u001b[0mname\u001b[0m \u001b[1;33m=\u001b[0m \u001b[0mslugify\u001b[0m\u001b[1;33m(\u001b[0m\u001b[0mname\u001b[0m\u001b[1;33m,\u001b[0m \u001b[0mvalid_variable_name\u001b[0m\u001b[1;33m=\u001b[0m\u001b[1;32mTrue\u001b[0m\u001b[1;33m)\u001b[0m\u001b[1;33m\u001b[0m\u001b[1;33m\u001b[0m\u001b[0m\n\u001b[1;32m--> 342\u001b[1;33m         \u001b[0mitem\u001b[0m \u001b[1;33m=\u001b[0m \u001b[0msuper\u001b[0m\u001b[1;33m(\u001b[0m\u001b[0mDictionaryTreeBrowser\u001b[0m\u001b[1;33m,\u001b[0m \u001b[0mself\u001b[0m\u001b[1;33m)\u001b[0m\u001b[1;33m.\u001b[0m\u001b[0m__getattribute__\u001b[0m\u001b[1;33m(\u001b[0m\u001b[0mname\u001b[0m\u001b[1;33m)\u001b[0m\u001b[1;33m\u001b[0m\u001b[1;33m\u001b[0m\u001b[0m\n\u001b[0m\u001b[0;32m    343\u001b[0m         \u001b[1;32mif\u001b[0m \u001b[0misinstance\u001b[0m\u001b[1;33m(\u001b[0m\u001b[0mitem\u001b[0m\u001b[1;33m,\u001b[0m \u001b[0mdict\u001b[0m\u001b[1;33m)\u001b[0m \u001b[1;32mand\u001b[0m \u001b[1;34m'_dtb_value_'\u001b[0m \u001b[1;32min\u001b[0m \u001b[0mitem\u001b[0m \u001b[1;32mand\u001b[0m \u001b[1;34m\"key\"\u001b[0m \u001b[1;32min\u001b[0m \u001b[0mitem\u001b[0m\u001b[1;33m:\u001b[0m\u001b[1;33m\u001b[0m\u001b[1;33m\u001b[0m\u001b[0m\n\u001b[0;32m    344\u001b[0m             \u001b[1;32mreturn\u001b[0m \u001b[0mitem\u001b[0m\u001b[1;33m[\u001b[0m\u001b[1;34m'_dtb_value_'\u001b[0m\u001b[1;33m]\u001b[0m\u001b[1;33m\u001b[0m\u001b[1;33m\u001b[0m\u001b[0m\n",
      "\u001b[1;31mAttributeError\u001b[0m: 'DictionaryTreeBrowser' object has no attribute 'Elt2'"
     ]
    }
   ],
   "source": [
    "Elt2 = symbols('H')\n",
    "Elt3 = 'H'\n",
    "Elt4 = print(Elt3)\n",
    "PropIS = hs.material.elements.Elt2.General_properties\n"
   ]
  },
  {
   "cell_type": "code",
   "execution_count": 10,
   "metadata": {},
   "outputs": [
    {
     "data": {
      "text/latex": [
       "$\\displaystyle H$"
      ],
      "text/plain": [
       "H"
      ]
     },
     "execution_count": 10,
     "metadata": {},
     "output_type": "execute_result"
    }
   ],
   "source": [
    "Elt2"
   ]
  },
  {
   "cell_type": "code",
   "execution_count": 8,
   "metadata": {},
   "outputs": [
    {
     "data": {
      "text/latex": [
       "$\\displaystyle 2$"
      ],
      "text/plain": [
       "2"
      ]
     },
     "execution_count": 8,
     "metadata": {},
     "output_type": "execute_result"
    }
   ],
   "source": [
    "Cpt = ['H',\"O\", \"Ca\", 2,1,1,2.24]\n",
    "Cpt[3]"
   ]
  },
  {
   "cell_type": "markdown",
   "metadata": {},
   "source": [
    "## Portlandite (CaOH2)"
   ]
  },
  {
   "cell_type": "markdown",
   "metadata": {},
   "source": [
    "composition = 2 H[+], 1 Ca[2+], 1 O"
   ]
  },
  {
   "cell_type": "code",
   "execution_count": 140,
   "metadata": {},
   "outputs": [
    {
     "data": {
      "text/latex": [
       "$\\displaystyle \\left[\\begin{matrix}Name & hydrogen & oxygen & calcium\\\\Z & 1 & 8 & 20\\\\Atm_{ratio} & 0.5 & 0.25 & 0.25\\\\Mass_{ratio} & 0.0347007433562023 & 0.275408790827442 & 0.689890465816356\\end{matrix}\\right]$"
      ],
      "text/plain": [
       "⎡  Name          hydrogen            oxygen             calcium     ⎤\n",
       "⎢                                                                   ⎥\n",
       "⎢    Z              1                   8                 20        ⎥\n",
       "⎢                                                                   ⎥\n",
       "⎢Atmᵣₐₜᵢₒ          0.5                0.25               0.25       ⎥\n",
       "⎢                                                                   ⎥\n",
       "⎣Massᵣₐₜᵢₒ  0.0347007433562023  0.275408790827442  0.689890465816356⎦"
      ]
     },
     "execution_count": 140,
     "metadata": {},
     "output_type": "execute_result"
    }
   ],
   "source": [
    "from sympy import *\n",
    "#initialisation\n",
    "###############\n",
    "#Number of ionic species\n",
    "dim_CH = 3\n",
    "#Name of ionic species\n",
    "Name_CH = list(range(dim_CH))\n",
    "#massic ratio\n",
    "C_CH = list(range(dim_CH))\n",
    "#Atomic ratio\n",
    "NP_CH = list(range(dim_CH))\n",
    "#atomic weight\n",
    "A_CH = list(range(dim_CH))\n",
    "#Atomic number\n",
    "Z_CH = list(range(dim_CH))\n",
    "#\n",
    "#General properties of the mineral\n",
    "#density (g/cm3)\n",
    "rho_CH = 2.24\n",
    "\n",
    "#Hydrogen\n",
    "########\n",
    "#Prop :\n",
    "Hprop = hs.material.elements.H.General_properties\n",
    "Name_CH[0] = Hprop.name\n",
    "Z_CH[0] = Hprop.Z\n",
    "A_CH[0] = Hprop.atomic_weight\n",
    "NP_CH[0] = 2.0\n",
    "C_CH[0] = (NP_CH[0])*A_CH[0]\n",
    "#\n",
    "#Oxygen\n",
    "########\n",
    "#Prop :\n",
    "Oprop = hs.material.elements.O.General_properties\n",
    "Name_CH[1] = Oprop.name\n",
    "Z_CH[1] = Oprop.Z\n",
    "A_CH[1] = Oprop.atomic_weight\n",
    "NP_CH[1] = 1.0\n",
    "C_CH[1] = (NP_CH[1])*A_CH[1]\n",
    "#\n",
    "#Calcium\n",
    "########\n",
    "#Prop :\n",
    "Caprop = hs.material.elements.Ca.General_properties\n",
    "Name_CH[2] = Caprop.name\n",
    "Z_CH[2] = Caprop.Z\n",
    "A_CH[2] = Caprop.atomic_weight\n",
    "NP_CH[2] = 1.0\n",
    "C_CH[2] = (NP_CH[2])*A_CH[2]\n",
    "#\n",
    "#total number of g of ionic species in the molecule for 1 mol of CH\n",
    "Ct_CH = sum(C_CH)\n",
    "#total number of mol of ionic species in the molecule for 1 mol of CH\n",
    "Nt_CH = sum(NP_CH)\n",
    "#converting massic to massic ratio\n",
    "C_CH = [i/Ct_CH for i in C_CH]\n",
    "NP_CH = [i/Nt_CH for i in NP_CH]\n",
    "#matrix creation\n",
    "Carac_0 = ['Name'] + Name_CH\n",
    "Carac_1 = ['Z'] + Z_CH\n",
    "Carac_2 = ['Atm_ratio'] + NP_CH\n",
    "Carac_3 = ['Mass_ratio'] + C_CH\n",
    "Carac_CH = Matrix([Carac_0, Carac_1, Carac_2, Carac_3])\n",
    "#output\n",
    "Carac_CH"
   ]
  },
  {
   "cell_type": "code",
   "execution_count": 144,
   "metadata": {},
   "outputs": [
    {
     "name": "stdout",
     "output_type": "stream",
     "text": [
      "2.24 <class 'list'>\n"
     ]
    }
   ],
   "source": [
    "print(rho_CH, type(C_CH))"
   ]
  },
  {
   "cell_type": "markdown",
   "metadata": {},
   "source": [
    "# Calcul of depth penetration of X ray (disturbance peer)"
   ]
  },
  {
   "cell_type": "code",
   "execution_count": 166,
   "metadata": {},
   "outputs": [
    {
     "name": "stdout",
     "output_type": "stream",
     "text": [
      "Disturbance peer 2.8953438787682155 µm\n"
     ]
    }
   ],
   "source": [
    "#Energy of SEM (kev)\n",
    "E_0 = 15\n",
    "#somme \n",
    "SVAR0 = 0 \n",
    "for i in range(len(C_CH)):\n",
    "    VAR0 = C_CH[i]*A_CH[i]/Z_CH[i]\n",
    "    SVAR0+=VAR0\n",
    "\n",
    "Depth_CH= 0.033*((E_0**(1.7)) / rho_CH)*SVAR0\n",
    "print('Disturbance peer',Depth_CH, 'µm')"
   ]
  },
  {
   "cell_type": "code",
   "execution_count": 165,
   "metadata": {},
   "outputs": [
    {
     "name": "stdout",
     "output_type": "stream",
     "text": [
      "Disturbance peer 0.8981203166057445 µm\n"
     ]
    }
   ],
   "source": [
    "#test pour le fer\n",
    "#Energy of SEM (kev)\n",
    "E_0 = 15\n",
    "A_Fe = 55.8\n",
    "Z_Fe = 26\n",
    "rho_Fe = 7.874\n",
    "#\n",
    "SVAR0 = 1*A_Fe/Z_Fe\n",
    "#\n",
    "Depth_CH= 0.033*((E_0**(1.7)) / rho_Fe)*SVAR0\n",
    "print('Disturbance peer',Depth_CH, 'µm')"
   ]
  },
  {
   "cell_type": "code",
   "execution_count": 155,
   "metadata": {},
   "outputs": [
    {
     "data": {
      "text/latex": [
       "$\\displaystyle 1.9682446977034178$"
      ],
      "text/plain": [
       "1.9682446977034178"
      ]
     },
     "execution_count": 155,
     "metadata": {},
     "output_type": "execute_result"
    }
   ],
   "source": [
    "SVAR0"
   ]
  },
  {
   "cell_type": "code",
   "execution_count": null,
   "metadata": {},
   "outputs": [],
   "source": []
  }
 ],
 "metadata": {
  "kernelspec": {
   "display_name": "Python 3",
   "language": "python",
   "name": "python3"
  },
  "language_info": {
   "codemirror_mode": {
    "name": "ipython",
    "version": 3
   },
   "file_extension": ".py",
   "mimetype": "text/x-python",
   "name": "python",
   "nbconvert_exporter": "python",
   "pygments_lexer": "ipython3",
   "version": "3.7.4"
  }
 },
 "nbformat": 4,
 "nbformat_minor": 2
}
