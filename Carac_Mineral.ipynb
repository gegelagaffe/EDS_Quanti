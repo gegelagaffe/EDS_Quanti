{
 "cells": [
  {
   "cell_type": "markdown",
   "metadata": {},
   "source": [
    "# Python fonctions"
   ]
  },
  {
   "cell_type": "code",
   "execution_count": 17,
   "metadata": {},
   "outputs": [],
   "source": [
    "%matplotlib qt\n",
    "import matplotlib.pyplot as plt\n",
    "import numpy as np\n",
    "import hyperspy.api as hs\n",
    "import sympy as sp\n",
    "from sympy import init_printing\n",
    "init_printing(use_latex='mathjax')\n",
    "from hyperspy.misc.elements import elements as elements_db"
   ]
  },
  {
   "cell_type": "markdown",
   "metadata": {},
   "source": [
    "# Database of mineral species"
   ]
  },
  {
   "cell_type": "code",
   "execution_count": 47,
   "metadata": {},
   "outputs": [],
   "source": [
    "#Function to provide interresting information for SEM-EDS analisys....V0.1\n",
    "\n",
    "def Carac_Mineral(Mineral, Elt, Mol, rho, E0, Opt, Graph):\n",
    "    \n",
    "    import matplotlib.pyplot as plt\n",
    "    import hyperspy.api as hs\n",
    "    import numpy as np\n",
    "    \n",
    "    if Mineral == 'Help':\n",
    "        Output0 = Mineral\n",
    "        \n",
    "        Mineral = 'Portlandite'\n",
    "        Elt_CH= ['H', 'Ca', 'O']\n",
    "        Mol_CH= [2,1,1]\n",
    "        rho_CH= 2.24\n",
    "        E0= 15\n",
    "        Out_Elt = 'Tot'\n",
    "        Graph= 'Y'\n",
    "        \n",
    "        print('Function which provides interresting informations for SEM-EDS analisys ')\n",
    "        print('')\n",
    "        print('   A22 = Carac_Mineral(Nom_CH, Elt_CH, Mol_CH, rho_CH, E0, Out_Elt, Graph)')\n",
    "        print('')\n",
    "        print('Name of the mineral:.......................................  ','Nom_CH =', Mineral)\n",
    "        print('Ionic Species:.............................................  ','Elt_CH =', Elt_CH)\n",
    "        print('Numbre of mol of Each Ionic Species (mol):.................. ','Mol_CH =', Mol_CH)\n",
    "        print('Density of the mineral (g/cm3):............................. ','rho_CH =', rho_CH)\n",
    "        print('Energy of SEM analysis (KeV):..............................  ','E0 =', E0)\n",
    "        print('Output otpion (Tot: Global information Ca : only calcium) :  ','Out_Elt =', Out_Elt)\n",
    "        print('Print option Y:print otherwise no print:...................  ','Graph =', Graph)        \n",
    "        \n",
    "    else:\n",
    "        #INITIALISATION\n",
    "        ###############\n",
    "        #Number of ionic species\n",
    "        dim_IS = len(Elt)\n",
    "        #Name of ionic species\n",
    "        Name_IS = list(range(dim_IS))\n",
    "        #atomic weight\n",
    "        A_IS = list(range(dim_IS))\n",
    "        #Atomic number\n",
    "        Z_IS = list(range(dim_IS))\n",
    "        #Xray_line_Ka\n",
    "        XR_Ka = list(range(dim_IS))\n",
    "        #Coefficient d'absorption massique µ/rho cm^2/g  \n",
    "        muRO_Ka = list(range(dim_IS))\n",
    "        muRO_Ka[0] = 0\n",
    "        #Properties ionic species\n",
    "        PropIS = list(range(dim_IS))\n",
    "        #General properties of the mineral\n",
    "        #density (g/cm3)\n",
    "        rho_IS = rho\n",
    "        # Calcul of depth penetration of X ray (disturbance peer)\n",
    "        SVAR0 = 0\n",
    "        #Tension d'acceleration (KeV)\n",
    "        EtA = E0\n",
    "\n",
    "        #CALCULATION\n",
    "        ###############\n",
    "        #massic ratio\n",
    "        C_Elt = hs.material.atomic_to_weight(Mol, Elt)\n",
    "        C_Elt = C_Elt.tolist()\n",
    "        # Atomic ratio\n",
    "        N_Elt = hs.material.weight_to_atomic(C_Elt, Elt)\n",
    "        N_Elt = N_Elt.tolist()\n",
    "        #\n",
    "        #For mass absorption calculation\n",
    "        position_H = Elt.index('H')\n",
    "        Elt2 = Elt[:]\n",
    "        C_Elt2 = C_Elt[:]\n",
    "        del Elt2[position_H]\n",
    "        del C_Elt2[position_H]\n",
    "        #\n",
    "        #\n",
    "        #For loop to calculate name, Z, Atomic weight Ka_Xrayline and mass absorbtion coefficient\n",
    "        for i in range(dim_IS):\n",
    "            PropIS[i] = hs.material.elements[Elt[i]].General_properties \n",
    "            Name_IS[i] = PropIS[i].name\n",
    "            Z_IS[i] = PropIS[i].Z\n",
    "            A_IS[i] = PropIS[i].atomic_weight\n",
    "            XR_Ka[i] = hs.material.elements[Elt[i]].Atomic_properties.Xray_lines.Ka['energy (keV)']\n",
    "            VAR0 = C_Elt[i]*0.01*A_IS[i]/Z_IS[i]\n",
    "            SVAR0+=VAR0\n",
    "            if i >  position_H:\n",
    "                muRO_Ka[i] = hs.material.mass_absorption_mixture(elements= Elt2, weight_percent= C_Elt2, energies=[ XR_Ka[i]])[0]\n",
    "        #\n",
    "        #\n",
    "        Depth= 0.033*((EtA**(1.7)) / rho_IS)*SVAR0\n",
    "        Depht_2 = [Depth]*dim_IS\n",
    "        #\n",
    "        #output : if you propose Total, the output would be the whole matrix whereas if you select just one element you'll get the elt informations\n",
    "        if Opt=='Tot':\n",
    "            Output0 = [Mineral, Name_IS, Z_IS ,N_Elt , C_Elt, XR_Ka, muRO_Ka, Depth ]\n",
    "        else:\n",
    "            if Opt in Elt:\n",
    "                pos_Opt = Elt.index(Opt)\n",
    "                Output0 = [Mineral, Name_IS[pos_Opt],Z_IS[pos_Opt],N_Elt[pos_Opt],C_Elt[pos_Opt], XR_Ka[pos_Opt], muRO_Ka[pos_Opt], Depth ]\n",
    "            else:\n",
    "                print('The element choosen is not present in the mineral')\n",
    "                Output0 = [Mineral, 'Error','Error','Error','Error', 'Error', 'Error', 'Error' ]\n",
    "        if Graph == 'Y':\n",
    "            print('Name of Mineral.....................',Output0[0])\n",
    "            print('Name of Elt.........................',Output0[1])\n",
    "            print('Atomic number.......................',Output0[2])\n",
    "            print('Atomic ratio in the mineral.........',np.around(Output0[3],3), '%')\n",
    "            print('Massic ratio in the mineral.........',np.around(Output0[4],3), '%')\n",
    "            print('Energy of Xray line Ka..............',np.around(Output0[5],3), 'KeV')\n",
    "            print('Mass absorption coefficient µ/rho...',np.around(Output0[6],3), ' cm^2/g')\n",
    "            print('Disturbance peer....................',round(Output0[7],2), 'µm')\n",
    "    \n",
    "    return Output0"
   ]
  },
  {
   "cell_type": "code",
   "execution_count": 48,
   "metadata": {},
   "outputs": [
    {
     "name": "stdout",
     "output_type": "stream",
     "text": [
      "Name of Mineral..................... Portlandite\n",
      "Name of Elt......................... ['hydrogen', 'calcium', 'oxygen']\n",
      "Atomic number....................... [1, 20, 8]\n",
      "Atomic ratio in the mineral......... [50.0, 25.0, 25.0] %\n",
      "Massic ratio in the mineral......... [ 3.47  68.989 27.541] %\n",
      "Energy of Xray line Ka.............. [1.000e-03 3.692e+00 5.250e-01] KeV\n",
      "Mass absorption coefficient µ/rho... [    0.      130.996 15945.435]  cm^2/g\n",
      "Disturbance peer.................... 2.9 µm\n",
      "Function which provides interresting informations for SEM-EDS analisys \n",
      "\n",
      "   A22 = Carac_Mineral(Nom_CH, Elt_CH, Mol_CH, rho_CH, E0, Out_Elt, Graph)\n",
      "\n",
      "Name of the mineral:.......................................   Nom_CH = Portlandite\n",
      "Ionic Species:.............................................   Elt_CH = ['H', 'Ca', 'O']\n",
      "Numbre of mol of Each Ionic Species (mol):..................  Mol_CH = [2, 1, 1]\n",
      "Density of the mineral (g/cm3):.............................  rho_CH = 2.24\n",
      "Energy of SEM analysis (KeV):..............................   E0 = 15\n",
      "Output otpion (Tot: Global information Ca : only calcium) :   Out_Elt = Tot\n",
      "Print option Y:print otherwise no print:...................   Graph = Y\n"
     ]
    }
   ],
   "source": [
    "Mineral = 'Portlandite'\n",
    "Elt_CH= ['H', 'Ca', 'O']\n",
    "Mol_CH= [2,1,1]\n",
    "rho_CH= 2.24\n",
    "E0= 15\n",
    "Out_Elt = 'Tot'\n",
    "Graph= 'Y'\n",
    "\n",
    "A22 = Carac_Mineral(Mineral, Elt_CH, Mol_CH, rho_CH, E0, Out_Elt, Graph)\n",
    "A23 = Carac_Mineral('Help', Elt_CH, Mol_CH, rho_CH, E0, Out_Elt, Graph)"
   ]
  },
  {
   "cell_type": "code",
   "execution_count": 31,
   "metadata": {},
   "outputs": [
    {
     "data": {
      "text/plain": [
       "['Portlandite',\n",
       " ['hydrogen', 'calcium', 'oxygen'],\n",
       " [1, 20, 8],\n",
       " [50.0, 25.0, 25.0],\n",
       " [3.47007433562023, 68.9890465816356, 27.540879082744166],\n",
       " [0.0013598, 3.6917, 0.5249],\n",
       " [0, 130.99604568939034, 15945.435072196926],\n",
       " 2.895343878768216]"
      ]
     },
     "execution_count": 31,
     "metadata": {},
     "output_type": "execute_result"
    }
   ],
   "source": [
    "A22"
   ]
  },
  {
   "cell_type": "code",
   "execution_count": null,
   "metadata": {},
   "outputs": [],
   "source": []
  }
 ],
 "metadata": {
  "kernelspec": {
   "display_name": "Python 3",
   "language": "python",
   "name": "python3"
  },
  "language_info": {
   "codemirror_mode": {
    "name": "ipython",
    "version": 3
   },
   "file_extension": ".py",
   "mimetype": "text/x-python",
   "name": "python",
   "nbconvert_exporter": "python",
   "pygments_lexer": "ipython3",
   "version": "3.7.4"
  }
 },
 "nbformat": 4,
 "nbformat_minor": 2
}
