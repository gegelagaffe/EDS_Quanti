{
 "cells": [
  {
   "cell_type": "markdown",
   "metadata": {},
   "source": [
    "# Chargement des librairies"
   ]
  },
  {
   "cell_type": "code",
   "execution_count": 2,
   "metadata": {},
   "outputs": [],
   "source": [
    "%matplotlib qt\n",
    "#%matplotlib nbagg\n",
    "#%matplotlib notebook\n",
    "#%matplotlib inlines\n",
    "import matplotlib.pyplot as plt"
   ]
  },
  {
   "cell_type": "code",
   "execution_count": 3,
   "metadata": {},
   "outputs": [],
   "source": [
    "import numpy as np\n",
    "import hyperspy.api as hs"
   ]
  },
  {
   "cell_type": "markdown",
   "metadata": {},
   "source": [
    "# Chargement des fichiers"
   ]
  },
  {
   "cell_type": "code",
   "execution_count": 4,
   "metadata": {},
   "outputs": [],
   "source": [
    "C1 = hs.load(\"C0.bcf\")\n",
    "C2 = hs.load(\"C0_1.bcf\")\n",
    "C3 = hs.load(\"C2.bcf\")"
   ]
  },
  {
   "cell_type": "markdown",
   "metadata": {},
   "source": [
    "## Image SE et Carto"
   ]
  },
  {
   "cell_type": "code",
   "execution_count": 5,
   "metadata": {},
   "outputs": [],
   "source": [
    "SE1 = C1[0]\n",
    "SE2 = C2[0]\n",
    "SE3 = C3[0]\n",
    "SE_t = [SE1, SE2, SE3]\n",
    "\n",
    "EDS1 = C1[1]\n",
    "EDS2 = C2[1]\n",
    "EDS3 = C3[1]\n",
    "EDS_t = [EDS1, EDS2, EDS3]"
   ]
  },
  {
   "cell_type": "code",
   "execution_count": 6,
   "metadata": {},
   "outputs": [],
   "source": [
    "EDS1.plot()"
   ]
  },
  {
   "cell_type": "markdown",
   "metadata": {},
   "source": [
    "# Information sur les  (pas indispensable)"
   ]
  },
  {
   "cell_type": "code",
   "execution_count": 6,
   "metadata": {},
   "outputs": [],
   "source": [
    "metaEDS1 = EDS1.metadata\n",
    "\n",
    "metaEDS2 = EDS2.metadata\n",
    "\n",
    "metaEDS3 = EDS3.metadata"
   ]
  },
  {
   "cell_type": "code",
   "execution_count": 5,
   "metadata": {},
   "outputs": [],
   "source": [
    "EDS1AX = EDS1.axes_manager\n",
    "EDS2AX = EDS2.axes_manager\n",
    "EDS3AX = EDS3.axes_manager"
   ]
  },
  {
   "cell_type": "code",
   "execution_count": 22,
   "metadata": {},
   "outputs": [],
   "source": [
    "A2 = np.max(EDS1AX[0])"
   ]
  },
  {
   "cell_type": "code",
   "execution_count": 47,
   "metadata": {},
   "outputs": [],
   "source": [
    "A2 = EDS1.valuemax(0)\n",
    "A3 = np.max(A2.data)"
   ]
  },
  {
   "cell_type": "code",
   "execution_count": 48,
   "metadata": {},
   "outputs": [
    {
     "data": {
      "text/plain": [
       "1548.6426878994182"
      ]
     },
     "execution_count": 48,
     "metadata": {},
     "output_type": "execute_result"
    }
   ],
   "source": [
    "A3"
   ]
  },
  {
   "cell_type": "code",
   "execution_count": 21,
   "metadata": {},
   "outputs": [
    {
     "data": {
      "text/plain": [
       "├── Acquisition_instrument\n",
       "│   └── SEM\n",
       "│       ├── Detector\n",
       "│       │   └── EDS\n",
       "│       │       ├── azimuth_angle = 45.0\n",
       "│       │       ├── detector_type = XFlash 5030\n",
       "│       │       ├── elevation_angle = 35.0\n",
       "│       │       ├── energy_resolution_MnKa = 130.0\n",
       "│       │       └── real_time = 1247.543296\n",
       "│       ├── Stage\n",
       "│       │   ├── tilt_alpha = 0.0\n",
       "│       │   ├── x = 7758\n",
       "│       │   └── y = 10690\n",
       "│       ├── beam_energy = 15\n",
       "│       └── magnification = 80\n",
       "├── General\n",
       "│   ├── date = 2020-01-02\n",
       "│   ├── original_filename = C0.bcf\n",
       "│   ├── time = 11:23:04\n",
       "│   └── title = EDX\n",
       "├── Sample\n",
       "│   ├── elements = ['Al', 'C', 'Ca', 'K', 'Mg', 'Na', 'O', 'S', 'Si']\n",
       "│   ├── name = CC4-2 acier-argilite 24\n",
       "│   └── xray_lines = ['Al_Ka', 'C_Ka', 'Ca_Ka', 'K_Ka', 'Mg_Ka', 'Na_Ka', 'O_Ka', 'S_Ka', 'Si_Ka']\n",
       "└── Signal\n",
       "    ├── binned = True\n",
       "    ├── quantity = X-rays (Counts)\n",
       "    └── signal_type = EDS_SEM"
      ]
     },
     "execution_count": 21,
     "metadata": {},
     "output_type": "execute_result"
    }
   ],
   "source": [
    "metaEDS1"
   ]
  },
  {
   "cell_type": "markdown",
   "metadata": {},
   "source": [
    "# Plot SE / EDS"
   ]
  },
  {
   "cell_type": "code",
   "execution_count": 27,
   "metadata": {},
   "outputs": [],
   "source": [
    "Plot_SE = hs.plot.plot_images(SE_t, axes_decor='off', scalebar='all')"
   ]
  },
  {
   "cell_type": "code",
   "execution_count": 24,
   "metadata": {},
   "outputs": [
    {
     "ename": "TypeError",
     "evalue": "int() argument must be a string, a bytes-like object or a number, not 'EDSSEMSpectrum'",
     "output_type": "error",
     "traceback": [
      "\u001b[1;31m---------------------------------------------------------------------------\u001b[0m",
      "\u001b[1;31mTypeError\u001b[0m                                 Traceback (most recent call last)",
      "\u001b[1;32m<ipython-input-24-b9c15836a330>\u001b[0m in \u001b[0;36m<module>\u001b[1;34m\u001b[0m\n\u001b[0;32m      2\u001b[0m \u001b[0mPlot_EDS2\u001b[0m \u001b[1;33m=\u001b[0m \u001b[0mEDS2\u001b[0m\u001b[1;33m.\u001b[0m\u001b[0mplot\u001b[0m\u001b[1;33m(\u001b[0m\u001b[1;33m)\u001b[0m\u001b[1;33m\u001b[0m\u001b[1;33m\u001b[0m\u001b[0m\n\u001b[0;32m      3\u001b[0m \u001b[0mPlot_EDS3\u001b[0m \u001b[1;33m=\u001b[0m \u001b[0mEDS3\u001b[0m\u001b[1;33m.\u001b[0m\u001b[0mplot\u001b[0m\u001b[1;33m(\u001b[0m\u001b[1;33m)\u001b[0m\u001b[1;33m\u001b[0m\u001b[1;33m\u001b[0m\u001b[0m\n\u001b[1;32m----> 4\u001b[1;33m \u001b[0mplt\u001b[0m\u001b[1;33m.\u001b[0m\u001b[0mfigure\u001b[0m\u001b[1;33m(\u001b[0m\u001b[0mEDS1\u001b[0m\u001b[1;33m)\u001b[0m\u001b[1;33m\u001b[0m\u001b[1;33m\u001b[0m\u001b[0m\n\u001b[0m",
      "\u001b[1;32m~\\HyperSpy Bundle\\python-3.7.4.amd64\\lib\\site-packages\\matplotlib\\pyplot.py\u001b[0m in \u001b[0;36mfigure\u001b[1;34m(num, figsize, dpi, facecolor, edgecolor, frameon, FigureClass, clear, **kwargs)\u001b[0m\n\u001b[0;32m    518\u001b[0m             \u001b[0mnum\u001b[0m \u001b[1;33m=\u001b[0m \u001b[0mallnums\u001b[0m\u001b[1;33m[\u001b[0m\u001b[0minum\u001b[0m\u001b[1;33m]\u001b[0m\u001b[1;33m\u001b[0m\u001b[1;33m\u001b[0m\u001b[0m\n\u001b[0;32m    519\u001b[0m     \u001b[1;32melse\u001b[0m\u001b[1;33m:\u001b[0m\u001b[1;33m\u001b[0m\u001b[1;33m\u001b[0m\u001b[0m\n\u001b[1;32m--> 520\u001b[1;33m         \u001b[0mnum\u001b[0m \u001b[1;33m=\u001b[0m \u001b[0mint\u001b[0m\u001b[1;33m(\u001b[0m\u001b[0mnum\u001b[0m\u001b[1;33m)\u001b[0m  \u001b[1;31m# crude validation of num argument\u001b[0m\u001b[1;33m\u001b[0m\u001b[1;33m\u001b[0m\u001b[0m\n\u001b[0m\u001b[0;32m    521\u001b[0m \u001b[1;33m\u001b[0m\u001b[0m\n\u001b[0;32m    522\u001b[0m     \u001b[0mfigManager\u001b[0m \u001b[1;33m=\u001b[0m \u001b[0m_pylab_helpers\u001b[0m\u001b[1;33m.\u001b[0m\u001b[0mGcf\u001b[0m\u001b[1;33m.\u001b[0m\u001b[0mget_fig_manager\u001b[0m\u001b[1;33m(\u001b[0m\u001b[0mnum\u001b[0m\u001b[1;33m)\u001b[0m\u001b[1;33m\u001b[0m\u001b[1;33m\u001b[0m\u001b[0m\n",
      "\u001b[1;31mTypeError\u001b[0m: int() argument must be a string, a bytes-like object or a number, not 'EDSSEMSpectrum'"
     ]
    }
   ],
   "source": [
    "Plot_EDS1 = EDS1.plot()\n",
    "Plot_EDS2 = EDS2.plot()\n",
    "Plot_EDS3 = EDS3.plot()"
   ]
  },
  {
   "cell_type": "code",
   "execution_count": 26,
   "metadata": {},
   "outputs": [
    {
     "ename": "TypeError",
     "evalue": "int() argument must be a string, a bytes-like object or a number, not 'Signal2D'",
     "output_type": "error",
     "traceback": [
      "\u001b[1;31m---------------------------------------------------------------------------\u001b[0m",
      "\u001b[1;31mTypeError\u001b[0m                                 Traceback (most recent call last)",
      "\u001b[1;32m<ipython-input-26-4ded7c94b85b>\u001b[0m in \u001b[0;36m<module>\u001b[1;34m\u001b[0m\n\u001b[1;32m----> 1\u001b[1;33m \u001b[0mplt\u001b[0m\u001b[1;33m.\u001b[0m\u001b[0mfigure\u001b[0m\u001b[1;33m(\u001b[0m\u001b[0mSE1\u001b[0m\u001b[1;33m)\u001b[0m\u001b[1;33m\u001b[0m\u001b[1;33m\u001b[0m\u001b[0m\n\u001b[0m",
      "\u001b[1;32m~\\HyperSpy Bundle\\python-3.7.4.amd64\\lib\\site-packages\\matplotlib\\pyplot.py\u001b[0m in \u001b[0;36mfigure\u001b[1;34m(num, figsize, dpi, facecolor, edgecolor, frameon, FigureClass, clear, **kwargs)\u001b[0m\n\u001b[0;32m    518\u001b[0m             \u001b[0mnum\u001b[0m \u001b[1;33m=\u001b[0m \u001b[0mallnums\u001b[0m\u001b[1;33m[\u001b[0m\u001b[0minum\u001b[0m\u001b[1;33m]\u001b[0m\u001b[1;33m\u001b[0m\u001b[1;33m\u001b[0m\u001b[0m\n\u001b[0;32m    519\u001b[0m     \u001b[1;32melse\u001b[0m\u001b[1;33m:\u001b[0m\u001b[1;33m\u001b[0m\u001b[1;33m\u001b[0m\u001b[0m\n\u001b[1;32m--> 520\u001b[1;33m         \u001b[0mnum\u001b[0m \u001b[1;33m=\u001b[0m \u001b[0mint\u001b[0m\u001b[1;33m(\u001b[0m\u001b[0mnum\u001b[0m\u001b[1;33m)\u001b[0m  \u001b[1;31m# crude validation of num argument\u001b[0m\u001b[1;33m\u001b[0m\u001b[1;33m\u001b[0m\u001b[0m\n\u001b[0m\u001b[0;32m    521\u001b[0m \u001b[1;33m\u001b[0m\u001b[0m\n\u001b[0;32m    522\u001b[0m     \u001b[0mfigManager\u001b[0m \u001b[1;33m=\u001b[0m \u001b[0m_pylab_helpers\u001b[0m\u001b[1;33m.\u001b[0m\u001b[0mGcf\u001b[0m\u001b[1;33m.\u001b[0m\u001b[0mget_fig_manager\u001b[0m\u001b[1;33m(\u001b[0m\u001b[0mnum\u001b[0m\u001b[1;33m)\u001b[0m\u001b[1;33m\u001b[0m\u001b[1;33m\u001b[0m\u001b[0m\n",
      "\u001b[1;31mTypeError\u001b[0m: int() argument must be a string, a bytes-like object or a number, not 'Signal2D'"
     ]
    }
   ],
   "source": []
  },
  {
   "cell_type": "markdown",
   "metadata": {},
   "source": [
    "# Integration des éléments"
   ]
  },
  {
   "cell_type": "code",
   "execution_count": 6,
   "metadata": {},
   "outputs": [],
   "source": [
    "#DEfinir les elements\n",
    "elements = ['Al', 'C', 'Ca', 'K', 'Mg', 'Na', 'O', 'S', 'Si']\n",
    "#ajouter les elements à EDS\n",
    "EDS1.set_elements(elements)\n",
    "EDS2.set_elements(elements)\n",
    "EDS3.set_elements(elements)"
   ]
  },
  {
   "cell_type": "markdown",
   "metadata": {},
   "source": [
    "# Integration des X-ray lines"
   ]
  },
  {
   "cell_type": "code",
   "execution_count": 7,
   "metadata": {},
   "outputs": [],
   "source": [
    "#ajouter les lines DRX (XRay-lines)\n",
    "EDS1.set_lines(['Al_Ka', 'C_Ka', 'Ca_Ka', 'K_Ka', 'Mg_Ka', 'Na_Ka', 'O_Ka', 'S_Ka', 'Si_Ka'])\n",
    "EDS2.set_lines(['Al_Ka', 'C_Ka', 'Ca_Ka', 'K_Ka', 'Mg_Ka', 'Na_Ka', 'O_Ka', 'S_Ka', 'Si_Ka'])\n",
    "EDS3.set_lines(['Al_Ka', 'C_Ka', 'Ca_Ka', 'K_Ka', 'Mg_Ka', 'Na_Ka', 'O_Ka', 'S_Ka', 'Si_Ka'])"
   ]
  },
  {
   "cell_type": "markdown",
   "metadata": {},
   "source": [
    "# Plot EDS carto"
   ]
  },
  {
   "cell_type": "code",
   "execution_count": 11,
   "metadata": {},
   "outputs": [],
   "source": [
    "C_EDS1 = EDS1.get_lines_intensity()\n",
    "C_EDS2 = EDS2.get_lines_intensity()\n",
    "C_EDS3 = EDS3.get_lines_intensity()"
   ]
  },
  {
   "cell_type": "markdown",
   "metadata": {},
   "source": [
    "## Plot EDS sur un elt (Ca)"
   ]
  },
  {
   "cell_type": "code",
   "execution_count": 8,
   "metadata": {},
   "outputs": [],
   "source": [
    "elt1 = 'Ca_Ka'\n",
    "EDS1Ca = EDS1.get_lines_intensity([elt1])\n",
    "EDS2Ca = EDS2.get_lines_intensity([elt1])\n",
    "EDS3Ca = EDS3.get_lines_intensity([elt1])"
   ]
  },
  {
   "cell_type": "code",
   "execution_count": 9,
   "metadata": {},
   "outputs": [],
   "source": [
    "EDS1Ca = EDS1Ca[0]\n",
    "EDS2Ca = EDS2Ca[0]\n",
    "EDS3Ca = EDS3Ca[0]"
   ]
  },
  {
   "cell_type": "code",
   "execution_count": 10,
   "metadata": {},
   "outputs": [],
   "source": [
    "EDS1Ca = EDS1Ca.as_signal2D(('width','height'))\n",
    "EDS2Ca = EDS2Ca.as_signal2D(('width','height'))\n",
    "EDS3Ca = EDS3Ca.as_signal2D(('width','height'))"
   ]
  },
  {
   "cell_type": "code",
   "execution_count": 11,
   "metadata": {},
   "outputs": [],
   "source": [
    "EDS1Max = np.max(EDS1Ca.data)\n",
    "EDS2Max = np.max(EDS2Ca.data)\n",
    "EDS3Max = np.max(EDS3Ca.data)\n",
    "EDS1CaN = EDS1Ca / EDS1Max\n",
    "EDS2CaN = EDS2Ca / EDS1Max\n",
    "EDS3CaN = EDS3Ca / EDS1Max\n",
    "EDS_tCa = [EDS1CaN, EDS2CaN, EDS3CaN]"
   ]
  },
  {
   "cell_type": "code",
   "execution_count": 100,
   "metadata": {},
   "outputs": [],
   "source": [
    "Col_EDS = 'viridis'\n",
    "EDS1Ca.plot(colorbar=True, scalebar=False, axes_ticks=True, cmap=Col_EDS, saturated_pixels=0)\n",
    "#EDS2CaN.plot(colorbar=True, scalebar=False, axes_ticks=True, cmap=Col_EDS, saturated_pixels=0)\n",
    "#EDS3CaN.plot(colorbar=True, scalebar=False, axes_ticks=True, cmap=Col_EDS, saturated_pixels=0)"
   ]
  },
  {
   "cell_type": "code",
   "execution_count": 12,
   "metadata": {},
   "outputs": [
    {
     "name": "stderr",
     "output_type": "stream",
     "text": [
      "C:\\Users\\NEJI-MEJ\\HyperSpy Bundle\\python-3.7.4.amd64\\lib\\site-packages\\hyperspy\\drawing\\image.py:300: UserWarning: Tight layout not applied. The left and right margins cannot be made large enough to accommodate all axes decorations. \n",
      "  self.figure.tight_layout()\n"
     ]
    }
   ],
   "source": [
    "#le rebin permet de diminuer la qualité de la carto\n",
    "test0 = EDS1Ca.rebin((100,))\n",
    "test0.plot()"
   ]
  },
  {
   "cell_type": "markdown",
   "metadata": {},
   "source": [
    "## Plot EDS sur un elt (Si)"
   ]
  },
  {
   "cell_type": "code",
   "execution_count": 12,
   "metadata": {},
   "outputs": [],
   "source": [
    "elt2 = 'Si_Ka'\n",
    "EDS1Si = EDS1.get_lines_intensity([elt2])\n",
    "EDS2Si = EDS2.get_lines_intensity([elt2])\n",
    "EDS3Si = EDS3.get_lines_intensity([elt2])"
   ]
  },
  {
   "cell_type": "code",
   "execution_count": 13,
   "metadata": {},
   "outputs": [],
   "source": [
    "EDS1Si = EDS1Si[0]\n",
    "EDS2Si = EDS2Si[0]\n",
    "EDS3Si = EDS3Si[0]"
   ]
  },
  {
   "cell_type": "code",
   "execution_count": 14,
   "metadata": {},
   "outputs": [],
   "source": [
    "EDS1Si = EDS1Si.as_signal2D(('width','height'))\n",
    "EDS2Si = EDS2Si.as_signal2D(('width','height'))\n",
    "EDS3Si = EDS3Si.as_signal2D(('width','height'))"
   ]
  },
  {
   "cell_type": "code",
   "execution_count": 15,
   "metadata": {},
   "outputs": [],
   "source": [
    "EDS1Max = np.max(EDS1Si.data)\n",
    "EDS2Max = np.max(EDS2Si.data)\n",
    "EDS3Max = np.max(EDS3Si.data)\n",
    "EDS1SiN = EDS1Si / EDS1Max\n",
    "EDS2SiN = EDS2Si / EDS1Max\n",
    "EDS3SiN = EDS3Si / EDS1Max\n",
    "EDS_tSi = [EDS1SiN, EDS2SiN, EDS3SiN]"
   ]
  },
  {
   "cell_type": "code",
   "execution_count": 32,
   "metadata": {},
   "outputs": [],
   "source": [
    "Col_EDS = 'viridis'\n",
    "EDS1SiN.plot(colorbar=True, scalebar=False, axes_ticks=True, cmap=Col_EDS, saturated_pixels=0)\n",
    "EDS2SiN.plot(colorbar=True, scalebar=False, axes_ticks=True, cmap=Col_EDS, saturated_pixels=0)\n",
    "EDS3SiN.plot(colorbar=True, scalebar=False, axes_ticks=True, cmap=Col_EDS, saturated_pixels=0)"
   ]
  },
  {
   "cell_type": "code",
   "execution_count": 42,
   "metadata": {},
   "outputs": [],
   "source": [
    "EDSCaSi1N =  EDS1CaN / (EDS1SiN + 1E-24)\n",
    "EDSCaSi1N.metadata.General.title = 'Ca / Si ratio C1'\n",
    "EDSCaSi2N =  EDS2CaN / (EDS2SiN + 1E-24)\n",
    "EDSCaSi2N.metadata.General.title = 'Ca / Si ratio C2'\n",
    "EDSCaSi3N =  EDS3CaN / (EDS3SiN + 1E-24)\n",
    "EDSCaSi3N.metadata.General.title = 'Ca / Si ratio C3'\n",
    "EDSCaSiN_t = [EDSCaSi1N, EDSCaSi2N, EDSCaSi3N]"
   ]
  },
  {
   "cell_type": "code",
   "execution_count": 44,
   "metadata": {},
   "outputs": [
    {
     "data": {
      "text/plain": [
       "[<matplotlib.axes._subplots.AxesSubplot at 0x1dca6a6fbc8>,\n",
       " <matplotlib.axes._subplots.AxesSubplot at 0x1dca67ca448>,\n",
       " <matplotlib.axes._subplots.AxesSubplot at 0x1dca685c9c8>]"
      ]
     },
     "execution_count": 44,
     "metadata": {},
     "output_type": "execute_result"
    }
   ],
   "source": [
    "hs.plot.plot_images(EDSCaSiN_t, axes_decor='off', scalebar= False, cmap=Col_EDS, suptitle = 'Ca/Si ratio', vmax = 2)"
   ]
  },
  {
   "cell_type": "code",
   "execution_count": 56,
   "metadata": {},
   "outputs": [
    {
     "data": {
      "text/plain": [
       "<matplotlib.axes._subplots.AxesSubplot at 0x1dca6c70048>"
      ]
     },
     "execution_count": 56,
     "metadata": {},
     "output_type": "execute_result"
    }
   ],
   "source": [
    "hs.plot.plot_histograms(EDSCaSiN_t, range_bins=(0.1,5))"
   ]
  },
  {
   "cell_type": "code",
   "execution_count": 54,
   "metadata": {},
   "outputs": [],
   "source": [
    "HEDSCaSi1 = EDSCaSi1N.get_histogram(range_bins=(0.1,5))\n",
    "HEDSCaSi2 = EDSCaSi2N.get_histogram(range_bins=(0.1,5))\n",
    "HEDSCaSi3 = EDSCaSi3N.get_histogram(range_bins=(0.1,5))"
   ]
  },
  {
   "cell_type": "code",
   "execution_count": 55,
   "metadata": {},
   "outputs": [],
   "source": [
    "HEDSCaSi1.plot()\n",
    "HEDSCaSi2.plot()\n",
    "HEDSCaSi3.plot()"
   ]
  },
  {
   "cell_type": "code",
   "execution_count": 16,
   "metadata": {},
   "outputs": [],
   "source": [
    "EDSSICAN.plot()"
   ]
  },
  {
   "cell_type": "code",
   "execution_count": 74,
   "metadata": {},
   "outputs": [],
   "source": [
    "EDS1Max = np.max(EDS1Ca.data)"
   ]
  },
  {
   "cell_type": "code",
   "execution_count": 84,
   "metadata": {},
   "outputs": [],
   "source": [
    "ROI1 = hs.roi.Line2DROI(x1=1, y1=1, x2=169.4, y2=387.731, linewidth=0)"
   ]
  },
  {
   "cell_type": "code",
   "execution_count": 87,
   "metadata": {},
   "outputs": [],
   "source": [
    "ROI2 = ROI1.interactive(EDSSICAN)"
   ]
  },
  {
   "cell_type": "code",
   "execution_count": 88,
   "metadata": {},
   "outputs": [],
   "source": [
    "ROI2.plot()"
   ]
  },
  {
   "cell_type": "code",
   "execution_count": 51,
   "metadata": {
    "scrolled": true
   },
   "outputs": [
    {
     "name": "stdout",
     "output_type": "stream",
     "text": [
      "[0.05, 0.05, 0.05]\n"
     ]
    },
    {
     "name": "stderr",
     "output_type": "stream",
     "text": [
      "WARNING:hyperspy.drawing.utils:vmin have to be a scalar to be compatible with a single colorbar\n",
      "WARNING:hyperspy.drawing.utils:vmax have to be a scalar to be compatible with a single colorbar\n"
     ]
    },
    {
     "data": {
      "text/plain": [
       "[<matplotlib.axes._subplots.AxesSubplot at 0x1944a827588>,\n",
       " <matplotlib.axes._subplots.AxesSubplot at 0x194fc178c08>,\n",
       " <matplotlib.axes._subplots.AxesSubplot at 0x19449883088>]"
      ]
     },
     "execution_count": 51,
     "metadata": {},
     "output_type": "execute_result"
    }
   ],
   "source": [
    "hs.plot.plot_images(EDS_tSi, axes_decor='off', scalebar= False, cmap=Col_EDS, colorbar = 'single')"
   ]
  },
  {
   "cell_type": "code",
   "execution_count": 10,
   "metadata": {},
   "outputs": [
    {
     "data": {
      "text/plain": [
       "<BaseSignal, title: X-ray line intensity of EDX: Si_Ka at 1.74 keV, dimensions: (1024, 768|)>"
      ]
     },
     "execution_count": 10,
     "metadata": {},
     "output_type": "execute_result"
    }
   ],
   "source": [
    "EDS1Si = EDS1.get_lines_intensity(['Si_Ka'])\n",
    "maxSI = max(EDS1Si)\n",
    "maxSI"
   ]
  },
  {
   "cell_type": "code",
   "execution_count": 100,
   "metadata": {},
   "outputs": [
    {
     "data": {
      "text/plain": [
       "[<matplotlib.axes._subplots.AxesSubplot at 0x20c10022288>,\n",
       " <matplotlib.axes._subplots.AxesSubplot at 0x20c0ffa1548>,\n",
       " <matplotlib.axes._subplots.AxesSubplot at 0x20c1559b2c8>]"
      ]
     },
     "execution_count": 100,
     "metadata": {},
     "output_type": "execute_result"
    }
   ],
   "source": [
    "EDSt_Ca_Si_CS = [EDS1SiN, EDS1CaN, EDSSICAN]\n",
    "hs.plot.plot_images(EDSt_Ca_Si_CS, axes_decor='off', scalebar= False, cmap='viridis')"
   ]
  },
  {
   "cell_type": "markdown",
   "metadata": {},
   "source": [
    "# selection d'un spectre"
   ]
  },
  {
   "cell_type": "code",
   "execution_count": 7,
   "metadata": {},
   "outputs": [],
   "source": [
    "MAX_X0 = EDS1.valuemax(0)\n",
    "MAX_X = np.max(MAX_X0.data)\n",
    "MAX_DX0 = EDS1.indexmax(0)\n",
    "MAX_DX = np.max(MAX_DX0.data)\n",
    "MAX_Y0 = EDS1.valuemax(1)\n",
    "MAX_Y = np.max(MAX_Y0.data)\n",
    "MAX_DY0 = EDS1.indexmax(1)\n",
    "MAX_DY = np.max(MAX_DY0.data)"
   ]
  },
  {
   "cell_type": "code",
   "execution_count": 8,
   "metadata": {},
   "outputs": [
    {
     "data": {
      "text/plain": [
       "1548.6426878994182"
      ]
     },
     "execution_count": 8,
     "metadata": {},
     "output_type": "execute_result"
    }
   ],
   "source": [
    "MAX_DX\n",
    "MAX_X\n",
    "#MAX_DY"
   ]
  },
  {
   "cell_type": "code",
   "execution_count": 70,
   "metadata": {},
   "outputs": [
    {
     "name": "stdout",
     "output_type": "stream",
     "text": [
      "[0.05, 0.05]\n"
     ]
    },
    {
     "name": "stderr",
     "output_type": "stream",
     "text": [
      "WARNING:hyperspy.drawing.utils:vmin have to be a scalar to be compatible with a single colorbar\n",
      "WARNING:hyperspy.drawing.utils:vmax have to be a scalar to be compatible with a single colorbar\n"
     ]
    },
    {
     "data": {
      "text/plain": [
       "[<matplotlib.axes._subplots.AxesSubplot at 0x20c1441b6c8>,\n",
       " <matplotlib.axes._subplots.AxesSubplot at 0x20c0fd6b0c8>]"
      ]
     },
     "execution_count": 70,
     "metadata": {},
     "output_type": "execute_result"
    }
   ],
   "source": [
    "EDSt_Ca_Si = [EDS1Si, EDS1Ca]\n",
    "hs.plot.plot_images(EDSt_Ca_Si, axes_decor='off', scalebar= False, cmap='viridis', colorbar = 'single')"
   ]
  },
  {
   "cell_type": "code",
   "execution_count": 29,
   "metadata": {},
   "outputs": [],
   "source": [
    "Xtest = 545.9\n",
    "Ytest = 546.8\n",
    "DXtest = Xtest * (MAX_DX + 1) / (MAX_X )\n",
    "DYtest = Ytest * (MAX_DY + 1) / (MAX_Y )"
   ]
  },
  {
   "cell_type": "code",
   "execution_count": null,
   "metadata": {},
   "outputs": [],
   "source": [
    "Xtest = DXtest"
   ]
  },
  {
   "cell_type": "code",
   "execution_count": 34,
   "metadata": {},
   "outputs": [],
   "source": [
    "DXtest = 360\n",
    "DYtest = 361"
   ]
  },
  {
   "cell_type": "code",
   "execution_count": 35,
   "metadata": {},
   "outputs": [],
   "source": [
    "SP_EDS1 = EDS1.inav[DXtest,DYtest]"
   ]
  },
  {
   "cell_type": "code",
   "execution_count": 36,
   "metadata": {},
   "outputs": [],
   "source": [
    "SP_EDS1\n",
    "SP_EDS1.plot()"
   ]
  },
  {
   "cell_type": "code",
   "execution_count": 32,
   "metadata": {
    "scrolled": false
   },
   "outputs": [],
   "source": [
    "mSP_EDS1 = SP_EDS1.create_model()\n",
    "#mSP_EDS1.print_current_values()"
   ]
  },
  {
   "cell_type": "code",
   "execution_count": 25,
   "metadata": {},
   "outputs": [
    {
     "name": "stdout",
     "output_type": "stream",
     "text": [
      "Al_Ka at 1.4865 keV : Intensity = -0.46\n",
      "C_Ka at 0.2774 keV : Intensity = 38.47\n",
      "Ca_Ka at 3.6917 keV : Intensity = -0.05\n",
      "Ca_La at 0.3464 keV : Intensity = 2.39\n",
      "K_Ka at 3.3138 keV : Intensity = -0.39\n",
      "Mg_Ka at 1.2536 keV : Intensity = -2.46\n",
      "Na_Ka at 1.041 keV : Intensity = -2.11\n",
      "O_Ka at 0.5249 keV : Intensity = 2.98\n",
      "S_Ka at 2.3072 keV : Intensity = -1.30\n",
      "Si_Ka at 1.7397 keV : Intensity = -0.75\n"
     ]
    }
   ],
   "source": [
    "mSP_EDS1.fit()\n",
    "mSP_EDS1.fit_background()\n",
    "result = mSP_EDS1.get_lines_intensity(plot_result=True)"
   ]
  },
  {
   "cell_type": "code",
   "execution_count": 37,
   "metadata": {},
   "outputs": [],
   "source": [
    "mSP_EDS1.plot(plot_components=True)"
   ]
  },
  {
   "cell_type": "markdown",
   "metadata": {},
   "source": [
    "# Decomposition"
   ]
  },
  {
   "cell_type": "code",
   "execution_count": 89,
   "metadata": {},
   "outputs": [],
   "source": [
    "SP_EDS1.change_dtype('float64')"
   ]
  },
  {
   "cell_type": "code",
   "execution_count": 102,
   "metadata": {},
   "outputs": [],
   "source": [
    "EDS10 = EDS1.rebin((256,192,1547))\n",
    "EDS10\n",
    "EDS10.plot()"
   ]
  },
  {
   "cell_type": "code",
   "execution_count": 103,
   "metadata": {},
   "outputs": [],
   "source": [
    "EDS10.change_dtype('float64')\n",
    "EDS10.decomposition()"
   ]
  },
  {
   "cell_type": "code",
   "execution_count": 104,
   "metadata": {},
   "outputs": [
    {
     "data": {
      "text/plain": [
       "<matplotlib.axes._subplots.AxesSubplot at 0x13d9acea388>"
      ]
     },
     "execution_count": 104,
     "metadata": {},
     "output_type": "execute_result"
    }
   ],
   "source": [
    "EDS10.plot_explained_variance_ratio()"
   ]
  },
  {
   "cell_type": "code",
   "execution_count": 106,
   "metadata": {},
   "outputs": [
    {
     "ename": "MemoryError",
     "evalue": "",
     "output_type": "error",
     "traceback": [
      "\u001b[1;31m---------------------------------------------------------------------------\u001b[0m",
      "\u001b[1;31mMemoryError\u001b[0m                               Traceback (most recent call last)",
      "\u001b[1;32m<ipython-input-106-f3c36831f627>\u001b[0m in \u001b[0;36m<module>\u001b[1;34m\u001b[0m\n\u001b[1;32m----> 1\u001b[1;33m \u001b[0msr\u001b[0m \u001b[1;33m=\u001b[0m \u001b[0mEDS10\u001b[0m\u001b[1;33m.\u001b[0m\u001b[0mget_decomposition_model\u001b[0m\u001b[1;33m(\u001b[0m\u001b[1;36m24\u001b[0m\u001b[1;33m)\u001b[0m\u001b[1;33m\u001b[0m\u001b[1;33m\u001b[0m\u001b[0m\n\u001b[0m",
      "\u001b[1;32m~\\HyperSpy Bundle\\python-3.7.4.amd64\\lib\\site-packages\\hyperspy\\learn\\mva.py\u001b[0m in \u001b[0;36mget_decomposition_model\u001b[1;34m(self, components)\u001b[0m\n\u001b[0;32m    908\u001b[0m         \"\"\"\n\u001b[0;32m    909\u001b[0m         rec = self._calculate_recmatrix(components=components,\n\u001b[1;32m--> 910\u001b[1;33m                                         mva_type='decomposition')\n\u001b[0m\u001b[0;32m    911\u001b[0m         \u001b[1;32mreturn\u001b[0m \u001b[0mrec\u001b[0m\u001b[1;33m\u001b[0m\u001b[1;33m\u001b[0m\u001b[0m\n\u001b[0;32m    912\u001b[0m \u001b[1;33m\u001b[0m\u001b[0m\n",
      "\u001b[1;32m~\\HyperSpy Bundle\\python-3.7.4.amd64\\lib\\site-packages\\hyperspy\\learn\\mva.py\u001b[0m in \u001b[0;36m_calculate_recmatrix\u001b[1;34m(self, components, mva_type)\u001b[0m\n\u001b[0;32m    874\u001b[0m                 mva_type, components)\n\u001b[0;32m    875\u001b[0m         \u001b[1;32melse\u001b[0m\u001b[1;33m:\u001b[0m\u001b[1;33m\u001b[0m\u001b[1;33m\u001b[0m\u001b[0m\n\u001b[1;32m--> 876\u001b[1;33m             \u001b[0ma\u001b[0m \u001b[1;33m=\u001b[0m \u001b[0mfactors\u001b[0m\u001b[1;33m[\u001b[0m\u001b[1;33m:\u001b[0m\u001b[1;33m,\u001b[0m \u001b[1;33m:\u001b[0m\u001b[0mcomponents\u001b[0m\u001b[1;33m]\u001b[0m \u001b[1;33m@\u001b[0m \u001b[0mloadings\u001b[0m\u001b[1;33m[\u001b[0m\u001b[1;33m:\u001b[0m\u001b[0mcomponents\u001b[0m\u001b[1;33m,\u001b[0m \u001b[1;33m:\u001b[0m\u001b[1;33m]\u001b[0m\u001b[1;33m\u001b[0m\u001b[1;33m\u001b[0m\u001b[0m\n\u001b[0m\u001b[0;32m    877\u001b[0m             signal_name = 'model from %s with %i components' % (\n\u001b[0;32m    878\u001b[0m                 mva_type, components)\n",
      "\u001b[1;31mMemoryError\u001b[0m: "
     ]
    }
   ],
   "source": [
    "sr = EDS10.get_decomposition_model(24)"
   ]
  },
  {
   "cell_type": "code",
   "execution_count": null,
   "metadata": {},
   "outputs": [],
   "source": [
    "ROI1 = hs.roi.RectangularROI"
   ]
  }
 ],
 "metadata": {
  "kernelspec": {
   "display_name": "Python 3",
   "language": "python",
   "name": "python3"
  },
  "language_info": {
   "codemirror_mode": {
    "name": "ipython",
    "version": 3
   },
   "file_extension": ".py",
   "mimetype": "text/x-python",
   "name": "python",
   "nbconvert_exporter": "python",
   "pygments_lexer": "ipython3",
   "version": "3.7.4"
  }
 },
 "nbformat": 4,
 "nbformat_minor": 2
}
