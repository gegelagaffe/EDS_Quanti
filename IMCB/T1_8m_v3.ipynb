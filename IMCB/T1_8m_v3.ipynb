{
 "cells": [
  {
   "cell_type": "markdown",
   "metadata": {},
   "source": [
    "# Chargement des librairies"
   ]
  },
  {
   "cell_type": "code",
   "execution_count": 1,
   "metadata": {},
   "outputs": [],
   "source": [
    "%matplotlib qt\n",
    "#%matplotlib nbagg\n",
    "#%matplotlib notebook\n",
    "#%matplotlib inlines\n",
    "import matplotlib.pyplot as plt"
   ]
  },
  {
   "cell_type": "code",
   "execution_count": 2,
   "metadata": {},
   "outputs": [],
   "source": [
    "import numpy as np\n",
    "import hyperspy.api as hs"
   ]
  },
  {
   "cell_type": "markdown",
   "metadata": {},
   "source": [
    "# Chargement des fichiers"
   ]
  },
  {
   "cell_type": "code",
   "execution_count": 4,
   "metadata": {},
   "outputs": [],
   "source": [
    "C1 = hs.load(\"C0.bcf\")\n",
    "C2 = hs.load(\"C0_1.bcf\")\n",
    "C3 = hs.load(\"C2.bcf\")"
   ]
  },
  {
   "cell_type": "markdown",
   "metadata": {},
   "source": [
    "## Image SE et Carto"
   ]
  },
  {
   "cell_type": "code",
   "execution_count": 5,
   "metadata": {},
   "outputs": [],
   "source": [
    "SE1 = C1[0]\n",
    "SE2 = C2[0]\n",
    "SE3 = C3[0]\n",
    "SE_t = [SE1, SE2, SE3]\n",
    "\n",
    "EDS1 = C1[1]\n",
    "EDS2 = C2[1]\n",
    "EDS3 = C3[1]\n",
    "EDS_t = [EDS1, EDS2, EDS3]"
   ]
  },
  {
   "cell_type": "markdown",
   "metadata": {},
   "source": [
    "# Information sur les  (pas indispensable)"
   ]
  },
  {
   "cell_type": "code",
   "execution_count": 5,
   "metadata": {},
   "outputs": [],
   "source": [
    "metaEDS1 = EDS1.metadata\n",
    "\n",
    "metaEDS2 = EDS2.metadata\n",
    "\n",
    "metaEDS3 = EDS3.metadata"
   ]
  },
  {
   "cell_type": "code",
   "execution_count": 6,
   "metadata": {},
   "outputs": [],
   "source": [
    "EDS1AX = EDS1.axes_manager\n",
    "EDS2AX = EDS2.axes_manager\n",
    "EDS3AX = EDS3.axes_manager"
   ]
  },
  {
   "cell_type": "markdown",
   "metadata": {},
   "source": [
    "# Plot SE / EDS"
   ]
  },
  {
   "cell_type": "code",
   "execution_count": 7,
   "metadata": {},
   "outputs": [],
   "source": [
    "Plot_SE = hs.plot.plot_images(SE_t, axes_decor='off', scalebar='all')"
   ]
  },
  {
   "cell_type": "code",
   "execution_count": 30,
   "metadata": {},
   "outputs": [],
   "source": [
    "Gr0 = 0\n",
    "if Gr0 == 1:\n",
    "    Plot_EDS1 = EDS1.plot()\n",
    "    Plot_EDS2 = EDS2.plot()\n",
    "    Plot_EDS3 = EDS3.plot()"
   ]
  },
  {
   "cell_type": "markdown",
   "metadata": {},
   "source": [
    "# Integration des éléments"
   ]
  },
  {
   "cell_type": "code",
   "execution_count": 6,
   "metadata": {},
   "outputs": [],
   "source": [
    "#DEfinir les elements\n",
    "elements = ['Al', 'C', 'Ca', 'K', 'Mg', 'Na', 'O', 'S', 'Si']\n",
    "#ajouter les elements à EDS\n",
    "EDS1.set_elements(elements)\n",
    "EDS2.set_elements(elements)\n",
    "EDS3.set_elements(elements)"
   ]
  },
  {
   "cell_type": "markdown",
   "metadata": {},
   "source": [
    "# Integration des X-ray lines"
   ]
  },
  {
   "cell_type": "code",
   "execution_count": 7,
   "metadata": {},
   "outputs": [],
   "source": [
    "#ajouter les lines DRX (XRay-lines)\n",
    "EDS1.set_lines(['Al_Ka', 'C_Ka', 'Ca_Ka', 'K_Ka', 'Mg_Ka', 'Na_Ka', 'O_Ka', 'S_Ka', 'Si_Ka'])\n",
    "EDS2.set_lines(['Al_Ka', 'C_Ka', 'Ca_Ka', 'K_Ka', 'Mg_Ka', 'Na_Ka', 'O_Ka', 'S_Ka', 'Si_Ka'])\n",
    "EDS3.set_lines(['Al_Ka', 'C_Ka', 'Ca_Ka', 'K_Ka', 'Mg_Ka', 'Na_Ka', 'O_Ka', 'S_Ka', 'Si_Ka'])"
   ]
  },
  {
   "cell_type": "markdown",
   "metadata": {},
   "source": [
    "# Plot EDS carto"
   ]
  },
  {
   "cell_type": "code",
   "execution_count": 8,
   "metadata": {},
   "outputs": [],
   "source": [
    "C_EDS1 = EDS1.get_lines_intensity()\n",
    "C_EDS2 = EDS2.get_lines_intensity()\n",
    "C_EDS3 = EDS3.get_lines_intensity()"
   ]
  },
  {
   "cell_type": "markdown",
   "metadata": {},
   "source": [
    "## Plot EDS sur un elt (Ca)"
   ]
  },
  {
   "cell_type": "code",
   "execution_count": 9,
   "metadata": {},
   "outputs": [],
   "source": [
    "elt1 = 'Ca_Ka'\n",
    "EDS1Ca = EDS1.get_lines_intensity([elt1])\n",
    "EDS2Ca = EDS2.get_lines_intensity([elt1])\n",
    "EDS3Ca = EDS3.get_lines_intensity([elt1])"
   ]
  },
  {
   "cell_type": "code",
   "execution_count": 10,
   "metadata": {},
   "outputs": [],
   "source": [
    "EDS1Ca = EDS1Ca[0]\n",
    "EDS2Ca = EDS2Ca[0]\n",
    "EDS3Ca = EDS3Ca[0]"
   ]
  },
  {
   "cell_type": "code",
   "execution_count": 11,
   "metadata": {},
   "outputs": [],
   "source": [
    "EDS1Ca = EDS1Ca.as_signal2D(('width','height'))\n",
    "EDS2Ca = EDS2Ca.as_signal2D(('width','height'))\n",
    "EDS3Ca = EDS3Ca.as_signal2D(('width','height'))"
   ]
  },
  {
   "cell_type": "code",
   "execution_count": 12,
   "metadata": {},
   "outputs": [],
   "source": [
    "EDS1Max = np.max(EDS1Ca.data)\n",
    "EDS2Max = np.max(EDS2Ca.data)\n",
    "EDS3Max = np.max(EDS3Ca.data)\n",
    "EDS1CaN = EDS1Ca / EDS1Max\n",
    "EDS2CaN = EDS2Ca / EDS1Max\n",
    "EDS3CaN = EDS3Ca / EDS1Max\n",
    "EDS_tNCa = [EDS1CaN, EDS2CaN, EDS3CaN]"
   ]
  },
  {
   "cell_type": "code",
   "execution_count": 31,
   "metadata": {},
   "outputs": [],
   "source": [
    "Col_EDS = 'viridis'\n",
    "if Gr0 == 1 :\n",
    "    hs.plot.plot_images(EDS_tNCa , axes_decor='off', scalebar= False, cmap=Col_EDS, label = ['C1', 'C2', 'C3'], suptitle = 'Ca_Ka')"
   ]
  },
  {
   "cell_type": "markdown",
   "metadata": {},
   "source": [
    "## Plot EDS sur un elt (Si)"
   ]
  },
  {
   "cell_type": "code",
   "execution_count": 13,
   "metadata": {},
   "outputs": [],
   "source": [
    "elt2 = 'Si_Ka'\n",
    "EDS1Si = EDS1.get_lines_intensity([elt2])\n",
    "EDS2Si = EDS2.get_lines_intensity([elt2])\n",
    "EDS3Si = EDS3.get_lines_intensity([elt2])"
   ]
  },
  {
   "cell_type": "code",
   "execution_count": 14,
   "metadata": {},
   "outputs": [],
   "source": [
    "EDS1Si = EDS1Si[0]\n",
    "EDS2Si = EDS2Si[0]\n",
    "EDS3Si = EDS3Si[0]"
   ]
  },
  {
   "cell_type": "code",
   "execution_count": 15,
   "metadata": {},
   "outputs": [],
   "source": [
    "EDS1Si = EDS1Si.as_signal2D(('width','height'))\n",
    "EDS2Si = EDS2Si.as_signal2D(('width','height'))\n",
    "EDS3Si = EDS3Si.as_signal2D(('width','height'))"
   ]
  },
  {
   "cell_type": "code",
   "execution_count": 16,
   "metadata": {},
   "outputs": [],
   "source": [
    "EDS1Max = np.max(EDS1Si.data)\n",
    "EDS2Max = np.max(EDS2Si.data)\n",
    "EDS3Max = np.max(EDS3Si.data)\n",
    "EDS1SiN = EDS1Si / EDS1Max\n",
    "EDS2SiN = EDS2Si / EDS1Max\n",
    "EDS3SiN = EDS3Si / EDS1Max\n",
    "EDS_tNSi = [EDS1SiN, EDS2SiN, EDS3SiN]"
   ]
  },
  {
   "cell_type": "code",
   "execution_count": 21,
   "metadata": {},
   "outputs": [],
   "source": [
    "if Gr0 == 1 :\n",
    "    hs.plot.plot_images(EDS_tNSi , axes_decor='off', scalebar= False, cmap=Col_EDS, label = ['C1', 'C2', 'C3'], suptitle = 'Si_Ka')"
   ]
  },
  {
   "cell_type": "markdown",
   "metadata": {},
   "source": [
    "# Rapport Ca / Si"
   ]
  },
  {
   "cell_type": "code",
   "execution_count": 17,
   "metadata": {},
   "outputs": [],
   "source": [
    "EDSCaSi1 =  EDS1Ca / (EDS1Si + 1E-24)\n",
    "EDSCaSi1.metadata.General.title = 'Ca / Si ratio C1'\n",
    "EDSCaSi2 =  EDS2Ca / (EDS2Si + 1E-24)\n",
    "EDSCaSi2.metadata.General.title = 'Ca / Si ratio C2'\n",
    "EDSCaSi3 =  EDS3Ca / (EDS3Si + 1E-24)\n",
    "EDSCaSi3.metadata.General.title = 'Ca / Si ratio C3'\n",
    "EDSCaSi_t = [EDSCaSi1, EDSCaSi2, EDSCaSi3]"
   ]
  },
  {
   "cell_type": "code",
   "execution_count": 40,
   "metadata": {},
   "outputs": [],
   "source": [
    "if Gr0 == 0 :\n",
    "    hs.plot.plot_images(EDSCaSi_t, axes_decor='off', scalebar= False, cmap=Col_EDS, suptitle = 'Ca/Si ratio', vmax = 2)"
   ]
  },
  {
   "cell_type": "code",
   "execution_count": 31,
   "metadata": {},
   "outputs": [],
   "source": [
    "if Gr0 == 0 :\n",
    "    hs.plot.plot_histograms(EDSCaSi_t, range_bins=(0.1,2))"
   ]
  },
  {
   "cell_type": "code",
   "execution_count": 35,
   "metadata": {},
   "outputs": [],
   "source": [
    "HEDSCaSi1 = EDSCaSi1.get_histogram(range_bins=(0.1,5))\n",
    "HEDSCaSi2 = EDSCaSi2.get_histogram(range_bins=(0.1,2))\n",
    "HEDSCaSi3 = EDSCaSi3.get_histogram(range_bins=(0.1,5))"
   ]
  },
  {
   "cell_type": "code",
   "execution_count": 36,
   "metadata": {},
   "outputs": [],
   "source": [
    "if Gr0==0 :\n",
    "    HEDSCaSi1.plot()\n",
    "    HEDSCaSi2.plot()\n",
    "    HEDSCaSi3.plot()"
   ]
  },
  {
   "cell_type": "markdown",
   "metadata": {},
   "source": [
    "# Extraction du bruit de fond"
   ]
  },
  {
   "cell_type": "code",
   "execution_count": 73,
   "metadata": {},
   "outputs": [],
   "source": [
    "ROI1 = hs.roi.RectangularROI(left=930, top=430, right=1000, bottom=500)\n",
    "EDS1.plot()"
   ]
  },
  {
   "cell_type": "code",
   "execution_count": 74,
   "metadata": {},
   "outputs": [],
   "source": [
    "ROI2 = ROI1.interactive(EDS1)\n",
    "ROI2.add_lines(['Ca_Kb'])"
   ]
  },
  {
   "cell_type": "code",
   "execution_count": 58,
   "metadata": {},
   "outputs": [],
   "source": [
    "ROI2.plot()"
   ]
  },
  {
   "cell_type": "code",
   "execution_count": 75,
   "metadata": {},
   "outputs": [],
   "source": [
    "#ROI2.plot()\n",
    "ROI2.change_dtype('float64')\n",
    "ROI2.decomposition()\n",
    "#ROI2.plot_explained_variance_ratio()\n",
    "D_ROI2 = ROI2.get_decomposition_model(2)\n",
    "D_ROI2.plot(xray_lines=True)"
   ]
  },
  {
   "cell_type": "code",
   "execution_count": 24,
   "metadata": {
    "scrolled": true
   },
   "outputs": [],
   "source": [
    "#sans decomposition :\n",
    "ROICa =  ROI2.get_lines_intensity([elt1])\n",
    "ROICa = ROICa[0]\n",
    "ROICa = ROICa.as_signal2D(('width','height'))\n",
    "#\n",
    "ROISi = ROI2.get_lines_intensity([elt2])\n",
    "ROISi = ROISi[0]\n",
    "ROISi = ROISi.as_signal2D(('width','height'))\n",
    "#\n",
    "ROICaSi =  ROICa / (ROISi + 1E-24)\n",
    "ROICaSi.metadata.General.title = 'Ca / Si sans deconv'\n"
   ]
  },
  {
   "cell_type": "code",
   "execution_count": 64,
   "metadata": {},
   "outputs": [],
   "source": [
    "#Avec decomposition :\n",
    "#KA\n",
    "DROICaA =  D_ROI2.get_lines_intensity([elt1])\n",
    "DROICaA = DROICaA[0]\n",
    "DROICaA = DROICaA.as_signal2D(('width','height'))\n",
    "#Kb\n",
    "DROICaB =  D_ROI2.get_lines_intensity(['Ca_Kb'])\n",
    "DROICaB = DROICaB[0]\n",
    "DROICaB = DROICaB.as_signal2D(('width','height'))\n",
    "#Ka + Kb\n",
    "DROICa = DROICaA + DROICaB\n",
    "#\n",
    "DROISi = D_ROI2.get_lines_intensity([elt2])\n",
    "DROISi = DROISi[0]\n",
    "DROISi = DROISi.as_signal2D(('width','height'))\n",
    "#\n",
    "DROICaSi =  DROICa / (DROISi + 1E-24)\n",
    "DROICaSi.metadata.General.title = 'Ca / Si avec deconv avec Ca_Kb'\n",
    "#sans Ca_Kb\n",
    "DROICaSi2 =  DROICaA / (DROISi + 1E-24)\n",
    "DROICaSi2.metadata.General.title = 'Ca / Si avec deconv avec Ca_Kb'"
   ]
  },
  {
   "cell_type": "code",
   "execution_count": 65,
   "metadata": {},
   "outputs": [
    {
     "data": {
      "text/plain": [
       "[<matplotlib.axes._subplots.AxesSubplot at 0x25112750688>,\n",
       " <matplotlib.axes._subplots.AxesSubplot at 0x251191ae908>,\n",
       " <matplotlib.axes._subplots.AxesSubplot at 0x25118b6c288>]"
      ]
     },
     "execution_count": 65,
     "metadata": {},
     "output_type": "execute_result"
    }
   ],
   "source": [
    "CaSi_D_t = [ROICaSi, DROICaSi,DROICaSi2]\n",
    "hs.plot.plot_images(CaSi_D_t, axes_decor='off', scalebar= False, cmap=Col_EDS, suptitle = 'Ca/Si ratio', vmax = 2)"
   ]
  },
  {
   "cell_type": "code",
   "execution_count": 62,
   "metadata": {},
   "outputs": [
    {
     "name": "stderr",
     "output_type": "stream",
     "text": [
      "C:\\Users\\NEJI-MEJ\\HyperSpy Bundle\\python-3.7.4.amd64\\lib\\site-packages\\hyperspy\\drawing\\utils.py:394: MatplotlibDeprecationWarning: Passing the drawstyle with the linestyle as a single string is deprecated since Matplotlib 3.1 and support will be removed in 3.3; please pass the drawstyle separately using the drawstyle keyword argument to Line2D or set_drawstyle() method (or ds/set_ds()).\n",
      "  ax.plot(x_axis.axis, spectrum.data, color=color, ls=line_style)\n"
     ]
    },
    {
     "data": {
      "text/plain": [
       "<matplotlib.axes._subplots.AxesSubplot at 0x234ee62a188>"
      ]
     },
     "execution_count": 62,
     "metadata": {},
     "output_type": "execute_result"
    }
   ],
   "source": [
    "hs.plot.plot_histograms(CaSi_D_t, range_bins=(0.1,2))"
   ]
  },
  {
   "cell_type": "markdown",
   "metadata": {},
   "source": [
    "# Fitting avec un modèle de gaussienne"
   ]
  },
  {
   "cell_type": "code",
   "execution_count": 76,
   "metadata": {},
   "outputs": [],
   "source": [
    "#sans decomposition\n",
    "mROI  = ROI2.create_model()\n",
    "mROI.fit()\n",
    "mROI.fit_background()\n",
    "mROI.plot(plot_components=True)"
   ]
  },
  {
   "cell_type": "code",
   "execution_count": 77,
   "metadata": {},
   "outputs": [],
   "source": [
    "#avec décomposition\n",
    "mDROI = D_ROI2.create_model()\n",
    "mDROI.fit()\n",
    "mDROI.fit_background()\n",
    "mDROI.plot(xray_lines=True)"
   ]
  },
  {
   "cell_type": "code",
   "execution_count": 79,
   "metadata": {},
   "outputs": [
    {
     "data": {
      "text/html": [
       "<h4>EDSSEMModel: EDX model from decomposition with 2 components</h4><p><b>current_component_values: background_order_6</b><br />Active: True</p><table style=\"width:100%\"><tr><th>Parameter Name</th><th>Free</th>\n",
       "            <th>Value</th><th>Std</th><th>Min</th><th>Max</th></tr><tr><td>a0</td><td>False</td><td>46.6986</td>\n",
       "                    <td>3.36256</td><td></td><td></td></tr><tr><td>a1</td><td>False</td><td>-6.50253</td>\n",
       "                    <td>7.44701</td><td></td><td></td></tr><tr><td>a2</td><td>False</td><td>-8.73052</td>\n",
       "                    <td>5.22148</td><td></td><td></td></tr><tr><td>a3</td><td>False</td><td>3.26876</td>\n",
       "                    <td>1.40948</td><td></td><td></td></tr><tr><td>a4</td><td>False</td><td>-0.446977</td>\n",
       "                    <td>0.177451</td><td></td><td></td></tr><tr><td>a5</td><td>False</td><td>0.0269414</td>\n",
       "                    <td>0.0104949</td><td></td><td></td></tr><tr><td>a6</td><td>False</td><td>-0.000601653</td>\n",
       "                    <td>0.000235549</td><td></td><td></td></tr></table><p><b>current_component_values: Al_Ka</b><br />Active: True</p><table style=\"width:100%\"><tr><th>Parameter Name</th><th>Free</th>\n",
       "            <th>Value</th><th>Std</th><th>Min</th><th>Max</th></tr><tr><td>A</td><td>True</td><td>21.2732</td>\n",
       "                    <td>   nan</td><td></td><td></td></tr><tr><td>centre</td><td>False</td><td>1.4865</td>\n",
       "                    <td></td><td></td><td></td></tr><tr><td>sigma</td><td>False</td><td>0.0325344</td>\n",
       "                    <td></td><td></td><td></td></tr></table><p><b>current_component_values: Al_Kb</b><br />Active: True</p><table style=\"width:100%\"><tr><th>Parameter Name</th><th>Free</th>\n",
       "            <th>Value</th><th>Std</th><th>Min</th><th>Max</th></tr><tr><td>A</td><td>False</td><td>0.280806</td>\n",
       "                    <td></td><td></td><td></td></tr><tr><td>centre</td><td>False</td><td>1.5596</td>\n",
       "                    <td></td><td></td><td></td></tr><tr><td>sigma</td><td>False</td><td>0.033037</td>\n",
       "                    <td></td><td></td><td></td></tr></table><p><b>current_component_values: C_Ka</b><br />Active: True</p><table style=\"width:100%\"><tr><th>Parameter Name</th><th>Free</th>\n",
       "            <th>Value</th><th>Std</th><th>Min</th><th>Max</th></tr><tr><td>A</td><td>True</td><td>0.61517</td>\n",
       "                    <td>   nan</td><td></td><td></td></tr><tr><td>centre</td><td>False</td><td>0.2774</td>\n",
       "                    <td></td><td></td><td></td></tr><tr><td>sigma</td><td>False</td><td>0.0226578</td>\n",
       "                    <td></td><td></td><td></td></tr></table><p><b>current_component_values: Ca_Ka</b><br />Active: True</p><table style=\"width:100%\"><tr><th>Parameter Name</th><th>Free</th>\n",
       "            <th>Value</th><th>Std</th><th>Min</th><th>Max</th></tr><tr><td>A</td><td>True</td><td>1.8375</td>\n",
       "                    <td>   nan</td><td></td><td></td></tr><tr><td>centre</td><td>False</td><td>3.6917</td>\n",
       "                    <td></td><td></td><td></td></tr><tr><td>sigma</td><td>False</td><td>0.0453066</td>\n",
       "                    <td></td><td></td><td></td></tr></table><p><b>current_component_values: Ca_Kb</b><br />Active: True</p><table style=\"width:100%\"><tr><th>Parameter Name</th><th>Free</th>\n",
       "            <th>Value</th><th>Std</th><th>Min</th><th>Max</th></tr><tr><td>A</td><td>False</td><td>0.2058</td>\n",
       "                    <td></td><td></td><td></td></tr><tr><td>centre</td><td>False</td><td>4.0127</td>\n",
       "                    <td></td><td></td><td></td></tr><tr><td>sigma</td><td>False</td><td>0.0468765</td>\n",
       "                    <td></td><td></td><td></td></tr></table><p><b>current_component_values: Ca_La</b><br />Active: True</p><table style=\"width:100%\"><tr><th>Parameter Name</th><th>Free</th>\n",
       "            <th>Value</th><th>Std</th><th>Min</th><th>Max</th></tr><tr><td>A</td><td>True</td><td>0.229666</td>\n",
       "                    <td>   nan</td><td></td><td></td></tr><tr><td>centre</td><td>False</td><td>0.3464</td>\n",
       "                    <td></td><td></td><td></td></tr><tr><td>sigma</td><td>False</td><td>0.0233341</td>\n",
       "                    <td></td><td></td><td></td></tr></table><p><b>current_component_values: Ca_Ln</b><br />Active: True</p><table style=\"width:100%\"><tr><th>Parameter Name</th><th>Free</th>\n",
       "            <th>Value</th><th>Std</th><th>Min</th><th>Max</th></tr><tr><td>A</td><td>False</td><td>0.0528233</td>\n",
       "                    <td></td><td></td><td></td></tr><tr><td>centre</td><td>False</td><td>0.3063</td>\n",
       "                    <td></td><td></td><td></td></tr><tr><td>sigma</td><td>False</td><td>0.0229435</td>\n",
       "                    <td></td><td></td><td></td></tr></table><p><b>current_component_values: Ca_Ll</b><br />Active: True</p><table style=\"width:100%\"><tr><th>Parameter Name</th><th>Free</th>\n",
       "            <th>Value</th><th>Std</th><th>Min</th><th>Max</th></tr><tr><td>A</td><td>False</td><td>0.229666</td>\n",
       "                    <td></td><td></td><td></td></tr><tr><td>centre</td><td>False</td><td>0.3027</td>\n",
       "                    <td></td><td></td><td></td></tr><tr><td>sigma</td><td>False</td><td>0.0229081</td>\n",
       "                    <td></td><td></td><td></td></tr></table><p><b>current_component_values: K_Ka</b><br />Active: True</p><table style=\"width:100%\"><tr><th>Parameter Name</th><th>Free</th>\n",
       "            <th>Value</th><th>Std</th><th>Min</th><th>Max</th></tr><tr><td>A</td><td>True</td><td>2.53573</td>\n",
       "                    <td>   nan</td><td></td><td></td></tr><tr><td>centre</td><td>False</td><td>3.3138</td>\n",
       "                    <td></td><td></td><td></td></tr><tr><td>sigma</td><td>False</td><td>0.0433856</td>\n",
       "                    <td></td><td></td><td></td></tr></table><p><b>current_component_values: K_Kb</b><br />Active: True</p><table style=\"width:100%\"><tr><th>Parameter Name</th><th>Free</th>\n",
       "            <th>Value</th><th>Std</th><th>Min</th><th>Max</th></tr><tr><td>A</td><td>False</td><td>0.263463</td>\n",
       "                    <td></td><td></td><td></td></tr><tr><td>centre</td><td>False</td><td>3.5896</td>\n",
       "                    <td></td><td></td><td></td></tr><tr><td>sigma</td><td>False</td><td>0.0447957</td>\n",
       "                    <td></td><td></td><td></td></tr></table><p><b>current_component_values: Mg_Ka</b><br />Active: True</p><table style=\"width:100%\"><tr><th>Parameter Name</th><th>Free</th>\n",
       "            <th>Value</th><th>Std</th><th>Min</th><th>Max</th></tr><tr><td>A</td><td>True</td><td>1.68851</td>\n",
       "                    <td>   nan</td><td></td><td></td></tr><tr><td>centre</td><td>False</td><td>1.2536</td>\n",
       "                    <td></td><td></td><td></td></tr><tr><td>sigma</td><td>False</td><td>0.0308786</td>\n",
       "                    <td></td><td></td><td></td></tr></table><p><b>current_component_values: Mg_Kb</b><br />Active: True</p><table style=\"width:100%\"><tr><th>Parameter Name</th><th>Free</th>\n",
       "            <th>Value</th><th>Std</th><th>Min</th><th>Max</th></tr><tr><td>A</td><td>False</td><td>0.0168851</td>\n",
       "                    <td></td><td></td><td></td></tr><tr><td>centre</td><td>False</td><td> 1.305</td>\n",
       "                    <td></td><td></td><td></td></tr><tr><td>sigma</td><td>False</td><td>0.0312516</td>\n",
       "                    <td></td><td></td><td></td></tr></table><p><b>current_component_values: Na_Ka</b><br />Active: True</p><table style=\"width:100%\"><tr><th>Parameter Name</th><th>Free</th>\n",
       "            <th>Value</th><th>Std</th><th>Min</th><th>Max</th></tr><tr><td>A</td><td>True</td><td>0.924369</td>\n",
       "                    <td>   nan</td><td></td><td></td></tr><tr><td>centre</td><td>False</td><td> 1.041</td>\n",
       "                    <td></td><td></td><td></td></tr><tr><td>sigma</td><td>False</td><td>0.0292854</td>\n",
       "                    <td></td><td></td><td></td></tr></table><p><b>current_component_values: Na_Kb</b><br />Active: True</p><table style=\"width:100%\"><tr><th>Parameter Name</th><th>Free</th>\n",
       "            <th>Value</th><th>Std</th><th>Min</th><th>Max</th></tr><tr><td>A</td><td>False</td><td>0.00924369</td>\n",
       "                    <td></td><td></td><td></td></tr><tr><td>centre</td><td>False</td><td>1.0721</td>\n",
       "                    <td></td><td></td><td></td></tr><tr><td>sigma</td><td>False</td><td>0.0295239</td>\n",
       "                    <td></td><td></td><td></td></tr></table><p><b>current_component_values: O_Ka</b><br />Active: True</p><table style=\"width:100%\"><tr><th>Parameter Name</th><th>Free</th>\n",
       "            <th>Value</th><th>Std</th><th>Min</th><th>Max</th></tr><tr><td>A</td><td>True</td><td>13.6908</td>\n",
       "                    <td>   nan</td><td></td><td></td></tr><tr><td>centre</td><td>False</td><td>0.5249</td>\n",
       "                    <td></td><td></td><td></td></tr><tr><td>sigma</td><td>False</td><td>0.0249991</td>\n",
       "                    <td></td><td></td><td></td></tr></table><p><b>current_component_values: S_Ka</b><br />Active: True</p><table style=\"width:100%\"><tr><th>Parameter Name</th><th>Free</th>\n",
       "            <th>Value</th><th>Std</th><th>Min</th><th>Max</th></tr><tr><td>A</td><td>True</td><td>0.651506</td>\n",
       "                    <td>   nan</td><td></td><td></td></tr><tr><td>centre</td><td>False</td><td>2.3072</td>\n",
       "                    <td></td><td></td><td></td></tr><tr><td>sigma</td><td>False</td><td>0.0377954</td>\n",
       "                    <td></td><td></td><td></td></tr></table><p><b>current_component_values: S_Kb</b><br />Active: True</p><table style=\"width:100%\"><tr><th>Parameter Name</th><th>Free</th>\n",
       "            <th>Value</th><th>Std</th><th>Min</th><th>Max</th></tr><tr><td>A</td><td>False</td><td>0.0425107</td>\n",
       "                    <td></td><td></td><td></td></tr><tr><td>centre</td><td>False</td><td>2.46427</td>\n",
       "                    <td></td><td></td><td></td></tr><tr><td>sigma</td><td>False</td><td>0.0387209</td>\n",
       "                    <td></td><td></td><td></td></tr></table><p><b>current_component_values: Si_Ka</b><br />Active: True</p><table style=\"width:100%\"><tr><th>Parameter Name</th><th>Free</th>\n",
       "            <th>Value</th><th>Std</th><th>Min</th><th>Max</th></tr><tr><td>A</td><td>True</td><td>28.338</td>\n",
       "                    <td>   nan</td><td></td><td></td></tr><tr><td>centre</td><td>False</td><td>1.7397</td>\n",
       "                    <td></td><td></td><td></td></tr><tr><td>sigma</td><td>False</td><td>0.0342438</td>\n",
       "                    <td></td><td></td><td></td></tr></table><p><b>current_component_values: Si_Kb</b><br />Active: True</p><table style=\"width:100%\"><tr><th>Parameter Name</th><th>Free</th>\n",
       "            <th>Value</th><th>Std</th><th>Min</th><th>Max</th></tr><tr><td>A</td><td>False</td><td>0.787512</td>\n",
       "                    <td></td><td></td><td></td></tr><tr><td>centre</td><td>False</td><td>1.8389</td>\n",
       "                    <td></td><td></td><td></td></tr><tr><td>sigma</td><td>False</td><td>0.0348907</td>\n",
       "                    <td></td><td></td><td></td></tr></table>"
      ],
      "text/plain": [
       "EDSSEMModel: EDX model from decomposition with 2 components\n",
       "current_component_values: background_order_6\n",
       "Active: True\n",
       "Parameter Name |  Free |      Value |        Std |        Min |        Max\n",
       "============== | ===== | ========== | ========== | ========== | ==========\n",
       "            a0 | False | 46.6986246 | 3.36256119 |       None |       None\n",
       "            a1 | False | -6.5025272 | 7.44701187 |       None |       None\n",
       "            a2 | False | -8.7305174 | 5.22147699 |       None |       None\n",
       "            a3 | False | 3.26876155 | 1.40948069 |       None |       None\n",
       "            a4 | False | -0.4469767 | 0.17745143 |       None |       None\n",
       "            a5 | False | 0.02694143 | 0.01049494 |       None |       None\n",
       "            a6 | False | -0.0006016 | 0.00023554 |       None |       None\n",
       "\n",
       "current_component_values: Al_Ka\n",
       "Active: True\n",
       "Parameter Name |  Free |      Value |        Std |        Min |        Max\n",
       "============== | ===== | ========== | ========== | ========== | ==========\n",
       "             A |  True | 21.2732147 |        nan |        0.0 |       None\n",
       "        centre | False |     1.4865 |       None |       None |       None\n",
       "         sigma | False | 0.03253440 |       None |        0.0 |       None\n",
       "\n",
       "current_component_values: Al_Kb\n",
       "Active: True\n",
       "Parameter Name |  Free |      Value |        Std |        Min |        Max\n",
       "============== | ===== | ========== | ========== | ========== | ==========\n",
       "             A | False | 0.28080643 |       None |        0.0 |       None\n",
       "        centre | False |     1.5596 |       None |       None |       None\n",
       "         sigma | False | 0.03303700 |       None |        0.0 |       None\n",
       "\n",
       "current_component_values: C_Ka\n",
       "Active: True\n",
       "Parameter Name |  Free |      Value |        Std |        Min |        Max\n",
       "============== | ===== | ========== | ========== | ========== | ==========\n",
       "             A |  True | 0.61516950 |        nan |        0.0 |       None\n",
       "        centre | False |     0.2774 |       None |       None |       None\n",
       "         sigma | False | 0.02265775 |       None |        0.0 |       None\n",
       "\n",
       "current_component_values: Ca_Ka\n",
       "Active: True\n",
       "Parameter Name |  Free |      Value |        Std |        Min |        Max\n",
       "============== | ===== | ========== | ========== | ========== | ==========\n",
       "             A |  True | 1.83750276 |        nan |        0.0 |       None\n",
       "        centre | False |     3.6917 |       None |       None |       None\n",
       "         sigma | False | 0.04530656 |       None |        0.0 |       None\n",
       "\n",
       "current_component_values: Ca_Kb\n",
       "Active: True\n",
       "Parameter Name |  Free |      Value |        Std |        Min |        Max\n",
       "============== | ===== | ========== | ========== | ========== | ==========\n",
       "             A | False | 0.20580030 |       None |        0.0 |       None\n",
       "        centre | False |     4.0127 |       None |       None |       None\n",
       "         sigma | False | 0.04687648 |       None |        0.0 |       None\n",
       "\n",
       "current_component_values: Ca_La\n",
       "Active: True\n",
       "Parameter Name |  Free |      Value |        Std |        Min |        Max\n",
       "============== | ===== | ========== | ========== | ========== | ==========\n",
       "             A |  True | 0.22966646 |        nan |        0.0 |       None\n",
       "        centre | False |     0.3464 |       None |       None |       None\n",
       "         sigma | False | 0.02333414 |       None |        0.0 |       None\n",
       "\n",
       "current_component_values: Ca_Ln\n",
       "Active: True\n",
       "Parameter Name |  Free |      Value |        Std |        Min |        Max\n",
       "============== | ===== | ========== | ========== | ========== | ==========\n",
       "             A | False | 0.05282328 |       None |        0.0 |       None\n",
       "        centre | False |     0.3063 |       None |       None |       None\n",
       "         sigma | False | 0.02294348 |       None |        0.0 |       None\n",
       "\n",
       "current_component_values: Ca_Ll\n",
       "Active: True\n",
       "Parameter Name |  Free |      Value |        Std |        Min |        Max\n",
       "============== | ===== | ========== | ========== | ========== | ==========\n",
       "             A | False | 0.22966646 |       None |        0.0 |       None\n",
       "        centre | False |     0.3027 |       None |       None |       None\n",
       "         sigma | False | 0.02290808 |       None |        0.0 |       None\n",
       "\n",
       "current_component_values: K_Ka\n",
       "Active: True\n",
       "Parameter Name |  Free |      Value |        Std |        Min |        Max\n",
       "============== | ===== | ========== | ========== | ========== | ==========\n",
       "             A |  True | 2.53573333 |        nan |        0.0 |       None\n",
       "        centre | False |     3.3138 |       None |       None |       None\n",
       "         sigma | False | 0.04338561 |       None |        0.0 |       None\n",
       "\n",
       "current_component_values: K_Kb\n",
       "Active: True\n",
       "Parameter Name |  Free |      Value |        Std |        Min |        Max\n",
       "============== | ===== | ========== | ========== | ========== | ==========\n",
       "             A | False | 0.26346269 |       None |        0.0 |       None\n",
       "        centre | False |     3.5896 |       None |       None |       None\n",
       "         sigma | False | 0.04479568 |       None |        0.0 |       None\n",
       "\n",
       "current_component_values: Mg_Ka\n",
       "Active: True\n",
       "Parameter Name |  Free |      Value |        Std |        Min |        Max\n",
       "============== | ===== | ========== | ========== | ========== | ==========\n",
       "             A |  True | 1.68851359 |        nan |        0.0 |       None\n",
       "        centre | False |     1.2536 |       None |       None |       None\n",
       "         sigma | False | 0.03087857 |       None |        0.0 |       None\n",
       "\n",
       "current_component_values: Mg_Kb\n",
       "Active: True\n",
       "Parameter Name |  Free |      Value |        Std |        Min |        Max\n",
       "============== | ===== | ========== | ========== | ========== | ==========\n",
       "             A | False | 0.01688513 |       None |        0.0 |       None\n",
       "        centre | False |      1.305 |       None |       None |       None\n",
       "         sigma | False | 0.03125155 |       None |        0.0 |       None\n",
       "\n",
       "current_component_values: Na_Ka\n",
       "Active: True\n",
       "Parameter Name |  Free |      Value |        Std |        Min |        Max\n",
       "============== | ===== | ========== | ========== | ========== | ==========\n",
       "             A |  True | 0.92436949 |        nan |        0.0 |       None\n",
       "        centre | False |      1.041 |       None |       None |       None\n",
       "         sigma | False | 0.02928544 |       None |        0.0 |       None\n",
       "\n",
       "current_component_values: Na_Kb\n",
       "Active: True\n",
       "Parameter Name |  Free |      Value |        Std |        Min |        Max\n",
       "============== | ===== | ========== | ========== | ========== | ==========\n",
       "             A | False | 0.00924369 |       None |        0.0 |       None\n",
       "        centre | False |     1.0721 |       None |       None |       None\n",
       "         sigma | False | 0.02952386 |       None |        0.0 |       None\n",
       "\n",
       "current_component_values: O_Ka\n",
       "Active: True\n",
       "Parameter Name |  Free |      Value |        Std |        Min |        Max\n",
       "============== | ===== | ========== | ========== | ========== | ==========\n",
       "             A |  True | 13.6907741 |        nan |        0.0 |       None\n",
       "        centre | False |     0.5249 |       None |       None |       None\n",
       "         sigma | False | 0.02499914 |       None |        0.0 |       None\n",
       "\n",
       "current_component_values: S_Ka\n",
       "Active: True\n",
       "Parameter Name |  Free |      Value |        Std |        Min |        Max\n",
       "============== | ===== | ========== | ========== | ========== | ==========\n",
       "             A |  True | 0.65150562 |        nan |        0.0 |       None\n",
       "        centre | False |     2.3072 |       None |       None |       None\n",
       "         sigma | False | 0.03779541 |       None |        0.0 |       None\n",
       "\n",
       "current_component_values: S_Kb\n",
       "Active: True\n",
       "Parameter Name |  Free |      Value |        Std |        Min |        Max\n",
       "============== | ===== | ========== | ========== | ========== | ==========\n",
       "             A | False | 0.04251074 |       None |        0.0 |       None\n",
       "        centre | False |    2.46427 |       None |       None |       None\n",
       "         sigma | False | 0.03872088 |       None |        0.0 |       None\n",
       "\n",
       "current_component_values: Si_Ka\n",
       "Active: True\n",
       "Parameter Name |  Free |      Value |        Std |        Min |        Max\n",
       "============== | ===== | ========== | ========== | ========== | ==========\n",
       "             A |  True | 28.3379500 |        nan |        0.0 |       None\n",
       "        centre | False |     1.7397 |       None |       None |       None\n",
       "         sigma | False | 0.03424383 |       None |        0.0 |       None\n",
       "\n",
       "current_component_values: Si_Kb\n",
       "Active: True\n",
       "Parameter Name |  Free |      Value |        Std |        Min |        Max\n",
       "============== | ===== | ========== | ========== | ========== | ==========\n",
       "             A | False | 0.78751163 |       None |        0.0 |       None\n",
       "        centre | False |     1.8389 |       None |       None |       None\n",
       "         sigma | False | 0.03489074 |       None |        0.0 |       None\n"
      ]
     },
     "metadata": {},
     "output_type": "display_data"
    }
   ],
   "source": [
    "mDROI\n",
    "mDROI.print_current_values()"
   ]
  },
  {
   "cell_type": "code",
   "execution_count": 69,
   "metadata": {},
   "outputs": [],
   "source": [
    "#Avec decomposition :\n",
    "#Ca_Ka\n",
    "mDROICa_A =  mDROI.get_lines_intensity([elt1])\n",
    "mDROICa_A = mDROICa_A[0]\n",
    "mDROICa_A = mDROICa_A.as_signal2D(('width','height'))\n",
    "#\n",
    "#Ca_Kb\n",
    "mDROICa_B =  mDROI.get_lines_intensity([elt1])\n",
    "mDROICa_B = mDROICa_B[0]\n",
    "mDROICa_B = mDROICa_B.as_signal2D(('width','height'))\n",
    "#\n",
    "mDROICa = mDROICa_A + mDROICa_B\n",
    "#Si_Ka\n",
    "mDROISi = mDROI.get_lines_intensity([elt2])\n",
    "mDROISi = mDROISi[0]\n",
    "mDROISi = mDROISi.as_signal2D(('width','height'))\n",
    "#\n",
    "mDROICaSi =  mDROICa / (mDROISi + 1E-24)\n",
    "mDROICaSi.metadata.General.title = 'Ca / Si avec deconv/model'\n"
   ]
  },
  {
   "cell_type": "code",
   "execution_count": 78,
   "metadata": {},
   "outputs": [
    {
     "data": {
      "text/plain": [
       "[<matplotlib.axes._subplots.AxesSubplot at 0x25120723948>,\n",
       " <matplotlib.axes._subplots.AxesSubplot at 0x25119bf1688>,\n",
       " <matplotlib.axes._subplots.AxesSubplot at 0x2511fad9408>,\n",
       " <matplotlib.axes._subplots.AxesSubplot at 0x25121448748>]"
      ]
     },
     "execution_count": 78,
     "metadata": {},
     "output_type": "execute_result"
    }
   ],
   "source": [
    "CaSi_D_t2 = [ROICaSi, DROICaSi, mDROICaSi,DROICaSi2]\n",
    "hs.plot.plot_images(CaSi_D_t2, axes_decor='off', scalebar= False, cmap=Col_EDS, suptitle = 'Ca/Si ratio', vmax = 2)"
   ]
  },
  {
   "cell_type": "code",
   "execution_count": 73,
   "metadata": {},
   "outputs": [
    {
     "data": {
      "text/plain": [
       "<matplotlib.axes._subplots.AxesSubplot at 0x234ea917748>"
      ]
     },
     "execution_count": 73,
     "metadata": {},
     "output_type": "execute_result"
    }
   ],
   "source": [
    "hs.plot.plot_histograms(CaSi_D_t2, range_bins=(0.1,5))"
   ]
  },
  {
   "cell_type": "code",
   "execution_count": null,
   "metadata": {},
   "outputs": [],
   "source": []
  }
 ],
 "metadata": {
  "kernelspec": {
   "display_name": "Python 3",
   "language": "python",
   "name": "python3"
  },
  "language_info": {
   "codemirror_mode": {
    "name": "ipython",
    "version": 3
   },
   "file_extension": ".py",
   "mimetype": "text/x-python",
   "name": "python",
   "nbconvert_exporter": "python",
   "pygments_lexer": "ipython3",
   "version": "3.7.4"
  }
 },
 "nbformat": 4,
 "nbformat_minor": 2
}
