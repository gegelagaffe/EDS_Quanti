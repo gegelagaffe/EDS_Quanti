{
 "cells": [
  {
   "cell_type": "markdown",
   "metadata": {},
   "source": [
    "# Python fonctions"
   ]
  },
  {
   "cell_type": "code",
   "execution_count": 104,
   "metadata": {},
   "outputs": [
    {
     "ename": "ImportError",
     "evalue": "cannot import name 'init_printing' from 'numpy' (C:\\Users\\NEJI-MEJ\\HyperSpy Bundle\\python-3.7.4.amd64\\lib\\site-packages\\numpy\\__init__.py)",
     "output_type": "error",
     "traceback": [
      "\u001b[1;31m---------------------------------------------------------------------------\u001b[0m",
      "\u001b[1;31mImportError\u001b[0m                               Traceback (most recent call last)",
      "\u001b[1;32m<ipython-input-104-7674b5965195>\u001b[0m in \u001b[0;36m<module>\u001b[1;34m\u001b[0m\n\u001b[0;32m      2\u001b[0m \u001b[1;32mimport\u001b[0m \u001b[0mmatplotlib\u001b[0m\u001b[1;33m.\u001b[0m\u001b[0mpyplot\u001b[0m \u001b[1;32mas\u001b[0m \u001b[0mplt\u001b[0m\u001b[1;33m\u001b[0m\u001b[1;33m\u001b[0m\u001b[0m\n\u001b[0;32m      3\u001b[0m \u001b[1;32mimport\u001b[0m \u001b[0mnumpy\u001b[0m \u001b[1;32mas\u001b[0m \u001b[0mnp\u001b[0m\u001b[1;33m\u001b[0m\u001b[1;33m\u001b[0m\u001b[0m\n\u001b[1;32m----> 4\u001b[1;33m \u001b[1;32mfrom\u001b[0m \u001b[0mnumpy\u001b[0m \u001b[1;32mimport\u001b[0m \u001b[0minit_printing\u001b[0m\u001b[1;33m\u001b[0m\u001b[1;33m\u001b[0m\u001b[0m\n\u001b[0m\u001b[0;32m      5\u001b[0m \u001b[1;32mimport\u001b[0m \u001b[0mhyperspy\u001b[0m\u001b[1;33m.\u001b[0m\u001b[0mapi\u001b[0m \u001b[1;32mas\u001b[0m \u001b[0mhs\u001b[0m\u001b[1;33m\u001b[0m\u001b[1;33m\u001b[0m\u001b[0m\n\u001b[0;32m      6\u001b[0m \u001b[1;32mimport\u001b[0m \u001b[0msympy\u001b[0m \u001b[1;32mas\u001b[0m \u001b[0msp\u001b[0m\u001b[1;33m\u001b[0m\u001b[1;33m\u001b[0m\u001b[0m\n",
      "\u001b[1;31mImportError\u001b[0m: cannot import name 'init_printing' from 'numpy' (C:\\Users\\NEJI-MEJ\\HyperSpy Bundle\\python-3.7.4.amd64\\lib\\site-packages\\numpy\\__init__.py)"
     ]
    }
   ],
   "source": [
    "%matplotlib qt\n",
    "import matplotlib.pyplot as plt\n",
    "import numpy as np\n",
    "import hyperspy.api as hs\n",
    "import sympy as sp\n",
    "from sympy import init_printing\n",
    "init_printing(use_latex='mathjax')"
   ]
  },
  {
   "cell_type": "markdown",
   "metadata": {},
   "source": [
    "# Database of mineral species"
   ]
  },
  {
   "cell_type": "code",
   "execution_count": 45,
   "metadata": {},
   "outputs": [],
   "source": [
    "def Depth(E_0, rho,C_i, A_i, Z_i, n):\n",
    "    C_i = list(range(15)) \n",
    "    \n",
    "    return a + b"
   ]
  },
  {
   "cell_type": "markdown",
   "metadata": {},
   "source": [
    "## Portlandite (CaOH2)"
   ]
  },
  {
   "cell_type": "markdown",
   "metadata": {},
   "source": [
    "composition = 2 H[+], 1 Ca[2+], 1 O"
   ]
  },
  {
   "cell_type": "code",
   "execution_count": 140,
   "metadata": {},
   "outputs": [
    {
     "data": {
      "text/latex": [
       "$\\displaystyle \\left[\\begin{matrix}Name & hydrogen & oxygen & calcium\\\\Z & 1 & 8 & 20\\\\Atm_{ratio} & 0.5 & 0.25 & 0.25\\\\Mass_{ratio} & 0.0347007433562023 & 0.275408790827442 & 0.689890465816356\\end{matrix}\\right]$"
      ],
      "text/plain": [
       "⎡  Name          hydrogen            oxygen             calcium     ⎤\n",
       "⎢                                                                   ⎥\n",
       "⎢    Z              1                   8                 20        ⎥\n",
       "⎢                                                                   ⎥\n",
       "⎢Atmᵣₐₜᵢₒ          0.5                0.25               0.25       ⎥\n",
       "⎢                                                                   ⎥\n",
       "⎣Massᵣₐₜᵢₒ  0.0347007433562023  0.275408790827442  0.689890465816356⎦"
      ]
     },
     "execution_count": 140,
     "metadata": {},
     "output_type": "execute_result"
    }
   ],
   "source": [
    "from sympy import *\n",
    "#initialisation\n",
    "###############\n",
    "#Number of ionic species\n",
    "dim_CH = 3\n",
    "#Name of ionic species\n",
    "Name_CH = list(range(dim_CH))\n",
    "#massic ratio\n",
    "C_CH = list(range(dim_CH))\n",
    "#Atomic ratio\n",
    "NP_CH = list(range(dim_CH))\n",
    "#atomic weight\n",
    "A_CH = list(range(dim_CH))\n",
    "#Atomic number\n",
    "Z_CH = list(range(dim_CH))\n",
    "#\n",
    "#General properties of the mineral\n",
    "#density (g/cm3)\n",
    "rho_CH = 2.24\n",
    "\n",
    "#Hydrogen\n",
    "########\n",
    "#Prop :\n",
    "Hprop = hs.material.elements.H.General_properties\n",
    "Name_CH[0] = Hprop.name\n",
    "Z_CH[0] = Hprop.Z\n",
    "A_CH[0] = Hprop.atomic_weight\n",
    "NP_CH[0] = 2.0\n",
    "C_CH[0] = (NP_CH[0])*A_CH[0]\n",
    "#\n",
    "#Oxygen\n",
    "########\n",
    "#Prop :\n",
    "Oprop = hs.material.elements.O.General_properties\n",
    "Name_CH[1] = Oprop.name\n",
    "Z_CH[1] = Oprop.Z\n",
    "A_CH[1] = Oprop.atomic_weight\n",
    "NP_CH[1] = 1.0\n",
    "C_CH[1] = (NP_CH[1])*A_CH[1]\n",
    "#\n",
    "#Calcium\n",
    "########\n",
    "#Prop :\n",
    "Caprop = hs.material.elements.Ca.General_properties\n",
    "Name_CH[2] = Caprop.name\n",
    "Z_CH[2] = Caprop.Z\n",
    "A_CH[2] = Caprop.atomic_weight\n",
    "NP_CH[2] = 1.0\n",
    "C_CH[2] = (NP_CH[2])*A_CH[2]\n",
    "#\n",
    "#total number of g of ionic species in the molecule for 1 mol of CH\n",
    "Ct_CH = sum(C_CH)\n",
    "#total number of mol of ionic species in the molecule for 1 mol of CH\n",
    "Nt_CH = sum(NP_CH)\n",
    "#converting massic to massic ratio\n",
    "C_CH = [i/Ct_CH for i in C_CH]\n",
    "NP_CH = [i/Nt_CH for i in NP_CH]\n",
    "#matrix creation\n",
    "Carac_0 = ['Name'] + Name_CH\n",
    "Carac_1 = ['Z'] + Z_CH\n",
    "Carac_2 = ['Atm_ratio'] + NP_CH\n",
    "Carac_3 = ['Mass_ratio'] + C_CH\n",
    "Carac_CH = Matrix([Carac_0, Carac_1, Carac_2, Carac_3])\n",
    "#output\n",
    "Carac_CH"
   ]
  },
  {
   "cell_type": "code",
   "execution_count": 144,
   "metadata": {},
   "outputs": [
    {
     "name": "stdout",
     "output_type": "stream",
     "text": [
      "2.24 <class 'list'>\n"
     ]
    }
   ],
   "source": [
    "print(rho_CH, type(C_CH))"
   ]
  },
  {
   "cell_type": "markdown",
   "metadata": {},
   "source": [
    "# Calcul of depth penetration of X ray (disturbance peer)"
   ]
  },
  {
   "cell_type": "code",
   "execution_count": 166,
   "metadata": {},
   "outputs": [
    {
     "name": "stdout",
     "output_type": "stream",
     "text": [
      "Disturbance peer 2.8953438787682155 µm\n"
     ]
    }
   ],
   "source": [
    "#Energy of SEM (kev)\n",
    "E_0 = 15\n",
    "#somme \n",
    "SVAR0 = 0 \n",
    "for i in range(len(C_CH)):\n",
    "    VAR0 = C_CH[i]*A_CH[i]/Z_CH[i]\n",
    "    SVAR0+=VAR0\n",
    "\n",
    "Depth_CH= 0.033*((E_0**(1.7)) / rho_CH)*SVAR0\n",
    "print('Disturbance peer',Depth_CH, 'µm')"
   ]
  },
  {
   "cell_type": "code",
   "execution_count": 165,
   "metadata": {},
   "outputs": [
    {
     "name": "stdout",
     "output_type": "stream",
     "text": [
      "Disturbance peer 0.8981203166057445 µm\n"
     ]
    }
   ],
   "source": [
    "#test pour le fer\n",
    "#Energy of SEM (kev)\n",
    "E_0 = 15\n",
    "A_Fe = 55.8\n",
    "Z_Fe = 26\n",
    "rho_Fe = 7.874\n",
    "#\n",
    "SVAR0 = 1*A_Fe/Z_Fe\n",
    "#\n",
    "Depth_CH= 0.033*((E_0**(1.7)) / rho_Fe)*SVAR0\n",
    "print('Disturbance peer',Depth_CH, 'µm')"
   ]
  },
  {
   "cell_type": "code",
   "execution_count": 155,
   "metadata": {},
   "outputs": [
    {
     "data": {
      "text/latex": [
       "$\\displaystyle 1.9682446977034178$"
      ],
      "text/plain": [
       "1.9682446977034178"
      ]
     },
     "execution_count": 155,
     "metadata": {},
     "output_type": "execute_result"
    }
   ],
   "source": [
    "SVAR0"
   ]
  },
  {
   "cell_type": "code",
   "execution_count": null,
   "metadata": {},
   "outputs": [],
   "source": []
  }
 ],
 "metadata": {
  "kernelspec": {
   "display_name": "Python 3",
   "language": "python",
   "name": "python3"
  },
  "language_info": {
   "codemirror_mode": {
    "name": "ipython",
    "version": 3
   },
   "file_extension": ".py",
   "mimetype": "text/x-python",
   "name": "python",
   "nbconvert_exporter": "python",
   "pygments_lexer": "ipython3",
   "version": "3.7.4"
  }
 },
 "nbformat": 4,
 "nbformat_minor": 2
}
