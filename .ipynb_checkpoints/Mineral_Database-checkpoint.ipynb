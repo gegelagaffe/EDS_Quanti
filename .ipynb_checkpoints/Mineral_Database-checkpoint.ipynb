{
 "cells": [
  {
   "cell_type": "markdown",
   "metadata": {},
   "source": [
    "# Python fonctions"
   ]
  },
  {
   "cell_type": "code",
   "execution_count": 1,
   "metadata": {},
   "outputs": [],
   "source": [
    "%matplotlib qt\n",
    "import matplotlib.pyplot as plt\n",
    "import numpy as np\n",
    "import hyperspy.api as hs\n",
    "import sympy as sp\n",
    "from sympy import init_printing\n",
    "init_printing(use_latex='mathjax')"
   ]
  },
  {
   "cell_type": "markdown",
   "metadata": {},
   "source": [
    "# Mineral Database"
   ]
  },
  {
   "cell_type": "code",
   "execution_count": 2,
   "metadata": {},
   "outputs": [],
   "source": [
    "from Letis import Carac_Mineral as CM"
   ]
  },
  {
   "cell_type": "markdown",
   "metadata": {},
   "source": [
    "## Help"
   ]
  },
  {
   "cell_type": "code",
   "execution_count": 3,
   "metadata": {},
   "outputs": [
    {
     "name": "stdout",
     "output_type": "stream",
     "text": [
      "Function which provides interresting informations for SEM-EDS analisys \n",
      "\n",
      "   A22 = Carac_Mineral(Nom_CH, Elt_CH, Mol_CH, rho_CH, E0, Out_Elt, Graph)\n",
      "\n",
      "Name of the mineral:.......................................   Nom_CH = Portlandite\n",
      "Ionic Species:.............................................   Elt_CH = ['H', 'Ca', 'O']\n",
      "Numbre of mol of Each Ionic Species (mol):..................  Mol_CH = [2, 1, 1]\n",
      "Density of the mineral (g/cm3):.............................  rho_CH = 2.24\n",
      "Energy of SEM analysis (KeV):..............................   E0 = 15\n",
      "Output otpion (Tot: Global information Ca : only calcium) :   Out_Elt = Tot\n",
      "Print option Y:print otherwise no print:...................   Graph = Y\n"
     ]
    },
    {
     "data": {
      "text/plain": [
       "'Help'"
      ]
     },
     "execution_count": 3,
     "metadata": {},
     "output_type": "execute_result"
    }
   ],
   "source": [
    "CM.Carac_Mineral('Help',1,1,1,1,1,1)"
   ]
  },
  {
   "cell_type": "markdown",
   "metadata": {},
   "source": [
    "## Portlandite"
   ]
  },
  {
   "cell_type": "code",
   "execution_count": 5,
   "metadata": {},
   "outputs": [
    {
     "name": "stdout",
     "output_type": "stream",
     "text": [
      "Name of Mineral..................... Portlandite\n",
      "Name of Elt......................... ['hydrogen', 'calcium', 'oxygen']\n",
      "Atomic number....................... [1, 20, 8]\n",
      "Atomic ratio in the mineral......... [40.0, 20.0, 40.0] %\n",
      "Massic ratio in the mineral......... [ 2.721 54.092 43.188] %\n",
      "Energy of Xray line Ka.............. [1.000e-03 3.692e+00 5.250e-01] KeV\n",
      "Mass absorption coefficient µ/rho... [    0.      126.416 12654.623]  cm^2/g\n",
      "Disturbance peer.................... 2.91 µm\n"
     ]
    }
   ],
   "source": [
    "Nom_CH = 'Portlandite'\n",
    "Elt_CH= ['H', 'Ca', 'O']\n",
    "Mol_CH= [2,1,2]\n",
    "rho_CH= 2.24\n",
    "E0= 15\n",
    "Out_CH = 'Tot'\n",
    "Gr_CH= 'Y'\n",
    "\n",
    "Prop_CH = CM.Carac_Mineral(Nom_CH, Elt_CH, Mol_CH, rho_CH, E0, Out_CH, Gr_CH)"
   ]
  },
  {
   "cell_type": "markdown",
   "metadata": {
    "slideshow": {
     "slide_type": "subslide"
    }
   },
   "source": [
    "# Brucite"
   ]
  },
  {
   "cell_type": "code",
   "execution_count": 7,
   "metadata": {},
   "outputs": [
    {
     "name": "stdout",
     "output_type": "stream",
     "text": [
      "Name of Mineral..................... Brucite\n",
      "Name of Elt......................... ['hydrogen', 'magnesium', 'oxygen']\n",
      "Atomic number....................... [1, 12, 8]\n",
      "Atomic ratio in the mineral......... [40.0, 20.0, 40.0] %\n",
      "Massic ratio in the mineral......... [ 3.457 41.675 54.868] %\n",
      "Energy of Xray line Ka.............. [1.000e-03 1.254e+00 5.250e-01] KeV\n",
      "Mass absorption coefficient µ/rho... [   0.    1548.884 2529.707]  cm^2/g\n",
      "Disturbance peer.................... 2.72 µm\n"
     ]
    }
   ],
   "source": [
    "Nom_Bru = 'Brucite'\n",
    "Elt_Bru= ['H', 'Mg', 'O']\n",
    "Mol_Bru= [2,1,2]\n",
    "rho_Bru= 2.39\n",
    "E0= 15\n",
    "Out_Bru = 'Tot'\n",
    "Gr_Bru= 'Y'\n",
    "\n",
    "Prop_Bru = CM.Carac_Mineral(Nom_Bru, Elt_Bru, Mol_Bru, rho_Bru, E0, Out_Bru, Gr_Bru)"
   ]
  },
  {
   "cell_type": "code",
   "execution_count": null,
   "metadata": {},
   "outputs": [],
   "source": []
  }
 ],
 "metadata": {
  "kernelspec": {
   "display_name": "Python 3",
   "language": "python",
   "name": "python3"
  },
  "language_info": {
   "codemirror_mode": {
    "name": "ipython",
    "version": 3
   },
   "file_extension": ".py",
   "mimetype": "text/x-python",
   "name": "python",
   "nbconvert_exporter": "python",
   "pygments_lexer": "ipython3",
   "version": "3.7.4"
  }
 },
 "nbformat": 4,
 "nbformat_minor": 2
}
