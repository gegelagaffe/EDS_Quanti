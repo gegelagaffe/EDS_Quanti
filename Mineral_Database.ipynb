{
 "cells": [
  {
   "cell_type": "markdown",
   "metadata": {},
   "source": [
    "# Python fonctions"
   ]
  },
  {
   "cell_type": "code",
   "execution_count": 3,
   "metadata": {},
   "outputs": [],
   "source": [
    "%matplotlib qt\n",
    "import matplotlib.pyplot as plt\n",
    "import numpy as np\n",
    "import hyperspy.api as hs\n",
    "import sympy as sp\n",
    "from sympy import init_printing\n",
    "init_printing(use_latex='mathjax')"
   ]
  },
  {
   "cell_type": "markdown",
   "metadata": {},
   "source": [
    "# Mineral Database"
   ]
  },
  {
   "cell_type": "code",
   "execution_count": 4,
   "metadata": {},
   "outputs": [],
   "source": [
    "from Letis import Carac_Mineral as CM"
   ]
  },
  {
   "cell_type": "markdown",
   "metadata": {},
   "source": [
    "## Help"
   ]
  },
  {
   "cell_type": "code",
   "execution_count": 5,
   "metadata": {},
   "outputs": [
    {
     "name": "stdout",
     "output_type": "stream",
     "text": [
      "Function which provides interresting informations for SEM-EDS analisys \n",
      "\n",
      "   A22 = Carac_Mineral(Nom_CH, Elt_CH, Mol_CH, rho_CH, E0, Out_Elt, Graph)\n",
      "\n",
      "Name of the mineral:.......................................   Nom_CH = Portlandite\n",
      "Ionic Species:.............................................   Elt_CH = ['H', 'Ca', 'O']\n",
      "Numbre of mol of Each Ionic Species (mol):..................  Mol_CH = [2, 1, 1]\n",
      "Density of the mineral (g/cm3):.............................  rho_CH = 2.24\n",
      "Energy of SEM analysis (KeV):..............................   E0 = 15\n",
      "Output otpion (Tot: Global information Ca : only calcium) :   Out_Elt = Tot\n",
      "Print option Y:print otherwise no print:...................   Graph = Y\n"
     ]
    },
    {
     "data": {
      "text/plain": [
       "'Help'"
      ]
     },
     "execution_count": 5,
     "metadata": {},
     "output_type": "execute_result"
    }
   ],
   "source": [
    "CM.Carac_Mineral('Help',1,1,1,1,1,1)"
   ]
  },
  {
   "cell_type": "markdown",
   "metadata": {},
   "source": [
    "## Portlandite"
   ]
  },
  {
   "cell_type": "code",
   "execution_count": 5,
   "metadata": {},
   "outputs": [
    {
     "name": "stdout",
     "output_type": "stream",
     "text": [
      "Name of Mineral..................... Portlandite\n",
      "Name of Elt......................... ['hydrogen', 'calcium', 'oxygen']\n",
      "Atomic number....................... [1, 20, 8]\n",
      "Atomic ratio in the mineral......... [40.0, 20.0, 40.0] %\n",
      "Massic ratio in the mineral......... [ 2.721 54.092 43.188] %\n",
      "Energy of Xray line Ka.............. [1.000e-03 3.692e+00 5.250e-01] KeV\n",
      "Mass absorption coefficient µ/rho... [    0.      126.416 12654.623]  cm^2/g\n",
      "Disturbance peer.................... 2.91 µm\n"
     ]
    }
   ],
   "source": [
    "#Ca(OH)2\n",
    "\n",
    "Nom_CH = 'Portlandite'\n",
    "Elt_CH = ['H', 'Ca', 'O']\n",
    "Mol_CH = [2,1,2]\n",
    "rho_CH = 2.24\n",
    "E0= 15\n",
    "Out_CH = 'Tot'\n",
    "Gr_CH = 'Y'\n",
    "\n",
    "Prop_CH = CM.Carac_Mineral(Nom_CH, Elt_CH, Mol_CH, rho_CH, E0, Out_CH, Gr_CH)"
   ]
  },
  {
   "cell_type": "markdown",
   "metadata": {
    "slideshow": {
     "slide_type": "subslide"
    }
   },
   "source": [
    "# Brucite"
   ]
  },
  {
   "cell_type": "code",
   "execution_count": 8,
   "metadata": {},
   "outputs": [
    {
     "name": "stdout",
     "output_type": "stream",
     "text": [
      "Name of Mineral..................... Brucite\n",
      "Name of Elt......................... magnesium\n",
      "Atomic number....................... 12\n",
      "Atomic ratio in the mineral......... 20.0 %\n",
      "Massic ratio in the mineral......... 41.675 %\n",
      "Energy of Xray line Ka.............. 1.254 KeV\n",
      "Mass absorption coefficient µ/rho... 1548.884  cm^2/g\n",
      "Disturbance peer.................... 2.72 µm\n"
     ]
    }
   ],
   "source": [
    "#Mg(OH)2\n",
    "\n",
    "Nom_Bru = 'Brucite'\n",
    "Elt_Bru= ['H', 'Mg', 'O']\n",
    "Mol_Bru= [2,1,2]\n",
    "rho_Bru= 2.39\n",
    "E0= 15\n",
    "Out_Bru = 'Mg'\n",
    "Gr_Bru= 'Y'\n",
    "\n",
    "Prop_Bru = CM.Carac_Mineral(Nom_Bru, Elt_Bru, Mol_Bru, rho_Bru, E0, Out_Bru, Gr_Bru)"
   ]
  },
  {
   "cell_type": "markdown",
   "metadata": {},
   "source": [
    "# Ettringite"
   ]
  },
  {
   "cell_type": "code",
   "execution_count": 6,
   "metadata": {},
   "outputs": [
    {
     "name": "stdout",
     "output_type": "stream",
     "text": [
      "Name of Mineral..................... Ettringite\n",
      "Name of Elt......................... ['hydrogen', 'oxygen', 'calcium', 'sulfur', 'aluminum']\n",
      "Atomic number....................... [1, 8, 20, 16, 13]\n",
      "Atomic ratio in the mineral......... [51.2 40.   4.8  2.4  1.6] %\n",
      "Massic ratio in the mineral......... [ 5.14  63.737 19.159  7.664  4.299] %\n",
      "Energy of Xray line Ka.............. [1.000e-03 5.250e-01 3.692e+00 2.307e+00 1.486e+00] KeV\n",
      "Mass absorption coefficient µ/rho... [   0.    6365.103  184.496  487.541 1417.507]  cm^2/g\n",
      "Disturbance peer.................... 3.79 µm\n"
     ]
    }
   ],
   "source": [
    "#Ca6Al2(SO4)3(OH)12.26H2O.\n",
    "\n",
    "Nom_Ett = 'Ettringite'\n",
    "Elt_Ett = ['H', 'O', 'Ca', 'S', 'Al']\n",
    "Mol_Ett = [64, 50, 6, 3, 2]\n",
    "rho_Ett = 1.7\n",
    "E0 = 15\n",
    "Out_Ett = 'Tot'\n",
    "Gr_Ett = 'Y'\n",
    "\n",
    "Prop_Ett = CM.Carac_Mineral(Nom_Ett, Elt_Ett, Mol_Ett, rho_Ett, E0, Out_Ett, Gr_Ett)"
   ]
  },
  {
   "cell_type": "markdown",
   "metadata": {},
   "source": [
    "# CSH"
   ]
  },
  {
   "cell_type": "code",
   "execution_count": 8,
   "metadata": {},
   "outputs": [
    {
     "name": "stdout",
     "output_type": "stream",
     "text": [
      "Name of Mineral..................... C-S-H(C/S: 1.6)\n",
      "Name of Elt......................... ['hydrogen', 'oxygen', 'calcium', 'silicon']\n",
      "Atomic number....................... [1, 8, 20, 14]\n",
      "Atomic ratio in the mineral......... [25.34  52.551 13.605  8.503] %\n",
      "Massic ratio in the mineral......... [ 1.548 50.943 33.039 14.47 ] %\n",
      "Energy of Xray line Ka.............. [1.000e-03 5.250e-01 3.692e+00 1.740e+00] KeV\n",
      "Mass absorption coefficient µ/rho... [   0.    9025.582  185.155  913.113]  cm^2/g\n",
      "Disturbance peer.................... 2.76 µm\n"
     ]
    }
   ],
   "source": [
    "#C-S-H (C/S = 1,6)\n",
    "\n",
    "Nom_CSH16 = 'C-S-H(C/S: 1.6)'\n",
    "Elt_CSH16 = ['H', 'O', 'Ca', 'Si']\n",
    "Mol_CSH16 = [2.98, 6.18, 1.6, 1]\n",
    "rho_CSH16 = 2.37\n",
    "E0 = 15\n",
    "Out_CSH16 = 'Tot'\n",
    "Gr_CSH16 = 'Y'\n",
    "\n",
    "Prop_CSH16 = CM.Carac_Mineral(Nom_CSH16, Elt_CSH16, Mol_CSH16, rho_CSH16, E0, Out_CSH16, Gr_CSH16)"
   ]
  },
  {
   "cell_type": "markdown",
   "metadata": {},
   "source": [
    "# MSH"
   ]
  },
  {
   "cell_type": "code",
   "execution_count": 16,
   "metadata": {},
   "outputs": [
    {
     "name": "stdout",
     "output_type": "stream",
     "text": [
      "Name of Mineral..................... M-S-H(M/S: 1)\n",
      "Name of Elt......................... ['hydrogen', 'oxygen', 'magnesium', 'silicon']\n",
      "Atomic number....................... [1, 8, 12, 14]\n",
      "Atomic ratio in the mineral......... [51.685 37.079  5.618  5.618] %\n",
      "Massic ratio in the mineral......... [ 5.544 63.133 14.531 16.792] %\n",
      "Energy of Xray line Ka.............. [1.000e-03 5.250e-01 1.254e+00 1.740e+00] KeV\n",
      "Mass absorption coefficient µ/rho... [   0.    2764.62  1803.552 1126.488]  cm^2/g\n",
      "Disturbance peer.................... 1.84 µm\n"
     ]
    }
   ],
   "source": [
    "#M-S-H (M/S = 1)\n",
    "\n",
    "\n",
    "Nom_MSH1 = 'M-S-H(M/S: 1)'\n",
    "Elt_MSH1 = ['H', 'O', 'Mg', 'Si']\n",
    "Mol_MSH1 = [9.2, 6.6, 1, 1]\n",
    "rho_MSH1 = 3.5\n",
    "E0 = 15\n",
    "Out_MSH1 = 'Tot'\n",
    "Gr_MSH1 = 'Y'\n",
    "\n",
    "Prop_MSH1 = CM.Carac_Mineral(Nom_MSH1, Elt_MSH1, Mol_MSH1, rho_MSH1, E0, Out_MSH1, Gr_MSH1)"
   ]
  },
  {
   "cell_type": "code",
   "execution_count": null,
   "metadata": {},
   "outputs": [],
   "source": []
  }
 ],
 "metadata": {
  "kernelspec": {
   "display_name": "Python 3",
   "language": "python",
   "name": "python3"
  },
  "language_info": {
   "codemirror_mode": {
    "name": "ipython",
    "version": 3
   },
   "file_extension": ".py",
   "mimetype": "text/x-python",
   "name": "python",
   "nbconvert_exporter": "python",
   "pygments_lexer": "ipython3",
   "version": "3.7.4"
  }
 },
 "nbformat": 4,
 "nbformat_minor": 2
}
